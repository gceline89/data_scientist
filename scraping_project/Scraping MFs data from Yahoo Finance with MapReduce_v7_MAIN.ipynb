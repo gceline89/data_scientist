{
 "cells": [
  {
   "cell_type": "markdown",
   "id": "a00214a1",
   "metadata": {},
   "source": [
    "# Specifying input file and output file"
   ]
  },
  {
   "cell_type": "code",
   "execution_count": 7,
   "id": "f817d1ae",
   "metadata": {},
   "outputs": [],
   "source": [
    "# importing required libraries \n",
    "import pandas as pd\n",
    "import requests\n",
    "from bs4 import BeautifulSoup\n",
    "from collections import defaultdict\n",
    "# Setting header values required for accessing webpages using Beautiful\n",
    "headers = {'Accept':'text/html,application/xhtml+xml,application/xml;q=0.9,image/webp,image/apng,*/*;exchange;v=b3',\n",
    "                   'Accept-Encoding': 'gzip, deflate, br',\n",
    "                   'Accept-Language': 'en-US,en;q=0.9',\n",
    "                   'Cache-Control': 'max-age=0',\n",
    "                   'Connection': 'close',\n",
    "                   'DNT': '1', # Do Not Track Request Header\n",
    "                   'Pragma': 'no-cache',\n",
    "                   'Referrer': 'https://google.com',\n",
    "                   'User-Agent': 'Mozilla/5.0 (Windows NT 10.0; Win64; x64) AppleWebKit/537.36(KHTML, like Gecko) Chrome/92.0.4515.107 Safari/537.36'\n",
    "                  }"
   ]
  },
  {
   "cell_type": "code",
   "execution_count": null,
   "id": "d8f990d5",
   "metadata": {},
   "outputs": [],
   "source": [
    "# Manually specifiying ticker symbols, or\n",
    "mf_tickers_test = ['SPRVX','VTSAX']"
   ]
  },
  {
   "cell_type": "code",
   "execution_count": null,
   "id": "d4eb97af",
   "metadata": {},
   "outputs": [],
   "source": [
    "# Alternatively, extracting ticker symbols from input file\n",
    "mf_tickers = list(pd.read_csv('Input/MutualFunds_data.csv')['fund_symbol'][0:10])"
   ]
  },
  {
   "cell_type": "code",
   "execution_count": 20,
   "id": "9b25c3c1",
   "metadata": {},
   "outputs": [],
   "source": [
    "# writing ticker values to txt file to be used as input for mapreduce jobs\n",
    "for value in mf_tickers:\n",
    "    with open('test_in_out/MF_tickers_1to10.txt','a') as input_file:\n",
    "        ticker = value +'\\n'\n",
    "        input_file.write(ticker)"
   ]
  },
  {
   "cell_type": "code",
   "execution_count": null,
   "id": "d31ff398",
   "metadata": {},
   "outputs": [],
   "source": []
  },
  {
   "cell_type": "markdown",
   "id": "fe6929ee",
   "metadata": {},
   "source": [
    "# Creating web scraper using Beautifulsoup"
   ]
  },
  {
   "cell_type": "code",
   "execution_count": 28,
   "id": "9ab7e675",
   "metadata": {},
   "outputs": [
    {
     "name": "stdout",
     "output_type": "stream",
     "text": [
      "Overwriting mf_data_scraper.py\n"
     ]
    }
   ],
   "source": [
    "%%file mf_data_scraper.py\n",
    "from mrjob.job import MRJob\n",
    "from mrjob.protocol import JSONValueProtocol\n",
    "from mrjob.step import MRStep\n",
    "import requests\n",
    "from bs4 import BeautifulSoup\n",
    "import time\n",
    "import json\n",
    "from collections import defaultdict\n",
    "\n",
    "class MRMutualFundDataScraper(MRJob):\n",
    "    \n",
    "    def mapper1(self,_,ticker):\n",
    "        # accessing ticker symbol from text file\n",
    "        yield None,ticker\n",
    "    \n",
    "    def mapper2(self,_,ticker):\n",
    "        # setting headers for accessing html tags using Beautifulsoup\n",
    "        headers = {'Accept':'text/html,application/xhtml+xml,application/xml;q=0.9,image/webp,image/apng,*/*;exchange;v=b3',\n",
    "                   'Accept-Encoding': 'gzip, deflate, br',\n",
    "                   'Accept-Language': 'en-US,en;q=0.9',\n",
    "                   'Cache-Control': 'max-age=0',\n",
    "                   'Connection': 'close',\n",
    "                   'DNT': '1', # Do Not Track Request Header\n",
    "                   'Pragma': 'no-cache',\n",
    "                   'Referrer': 'https://google.com',\n",
    "                   'User-Agent': 'Mozilla/5.0 (Windows NT 10.0; Win64; x64) AppleWebKit/537.36(KHTML, like Gecko) Chrome/92.0.4515.107 Safari/537.36'\n",
    "                  }\n",
    "        # Obtaining html page of required webpages of Yahoo Finance\n",
    "        summary_tab = BeautifulSoup(requests.get('https://finance.yahoo.com/quote/{}?p={}'.format(ticker,ticker),headers=headers).text, 'html.parser')\n",
    "        profile_tab = BeautifulSoup(requests.get('https://finance.yahoo.com/quote/{}/profile?p={}'.format(ticker,ticker),headers=headers).text, 'html.parser')\n",
    "        holdings_tab = BeautifulSoup(requests.get('https://finance.yahoo.com/quote/{}/holdings?p={}'.format(ticker,ticker),headers=headers).text, 'html.parser')\n",
    "        performance_tab = BeautifulSoup(requests.get('https://finance.yahoo.com/quote/{}/performance?p={}'.format(ticker,ticker),headers=headers).text, 'html.parser')\n",
    "        risk_tab = BeautifulSoup(requests.get('https://finance.yahoo.com/quote/{}/risk?p={}'.format(ticker,ticker),headers=headers).text, 'html.parser')\n",
    "        # defining start time\n",
    "        start = time.time()\n",
    "        # defining required variables \n",
    "        mf_name = summary_tab.find_all('h1')[0].text\n",
    "        # Attributes on profile tab's Funds Overview section\n",
    "        category_name = profile_tab.find_all('div',\"Mb(25px)\")[0].find_all('div',\"Bdbw(1px) Bdbc($seperatorColor) Bdbs(s) H(25px) Pt(10px)\")[0].find_all('span')[-1].text\n",
    "        family=profile_tab.find_all('div',\"Mb(25px)\")[0].find_all('div',\"Bdbw(1px) Bdbc($seperatorColor) Bdbs(s) H(25px) Pt(10px)\")[1].find_all('span')[-1].text\n",
    "        net_assets_value=profile_tab.find_all('div',\"Mb(25px)\")[0].find_all('div',\"Bdbw(1px) Bdbc($seperatorColor) Bdbs(s) H(25px) Pt(10px)\")[2].find_all('span')[-1].text\n",
    "        income_yield = profile_tab.find_all('div',\"Mb(25px)\")[0].find_all('div',\"Bdbw(1px) Bdbc($seperatorColor) Bdbs(s) H(25px) Pt(10px)\")[4].find_all('span')[-1].text\n",
    "        morning_star_rating=profile_tab.find_all('div',\"Mb(25px)\")[0].find_all('div',\"Bdbw(1px) Bdbc($seperatorColor) Bdbs(s) H(25px) Pt(10px)\")[5].find_all('span')[-1].text\n",
    "        inception_date=profile_tab.find_all('div',\"Mb(25px)\")[0].find_all('div',\"Bdbw(1px) Bdbc($seperatorColor) Bdbs(s) H(25px) Pt(10px)\")[6].find_all('span')[-1].text\n",
    "        # Attributes on profile tab's Fund Operations section\n",
    "        fund_holdings_turnover=profile_tab.find_all('div',\"Mb(25px)\")[1].find_all('div',\"Bdbw(1px) Bdbc($seperatorColor) Bdbs(s) H(25px) Pt(10px)\")[2].find_all('span')[-1].text\n",
    "        # Attributes in profile tab's Fees & Expenses section\n",
    "        fund_expense_ratio=profile_tab.find_all('div',\"Mb(25px)\")[2].find_all('div',\"Bdbw(1px) Bdbc($seperatorColor) Bdbs(s) H(25px) Pt(10px)\")[0].find_all('span')[-2].text\n",
    "        # Attributes on Holdings tab's Portfolio Composition section\n",
    "        cash=holdings_tab.find_all('div',\"Mb(25px)\")[0].find_all('div',\"Bdbw(1px) Bdbc($seperatorColor) Bdbs(s) H(25px) Pt(10px)\")[0].find_all('span')[-1].text\n",
    "        stock=holdings_tab.find_all('div',\"Mb(25px)\")[0].find_all('div',\"Bdbw(1px) Bdbc($seperatorColor) Bdbs(s) H(25px) Pt(10px)\")[1].find_all('span')[-1].text\n",
    "        bond=holdings_tab.find_all('div',\"Mb(25px)\")[0].find_all('div',\"Bdbw(1px) Bdbc($seperatorColor) Bdbs(s) H(25px) Pt(10px)\")[2].find_all('span')[-1].text\n",
    "        preferred=holdings_tab.find_all('div',\"Mb(25px)\")[0].find_all('div',\"Bdbw(1px) Bdbc($seperatorColor) Bdbs(s) H(25px) Pt(10px)\")[4].find_all('span')[-1].text\n",
    "        convertible=holdings_tab.find_all('div',\"Mb(25px)\")[0].find_all('div',\"Bdbw(1px) Bdbc($seperatorColor) Bdbs(s) H(25px) Pt(10px)\")[5].find_all('span')[-1].text\n",
    "        # Attributes on Holdings tab's Sector Weightings section\n",
    "        basic_materials=holdings_tab.find_all('div',\"Mb(25px)\")[1].find_all('div',\"Bdbw(1px) Bdbc($seperatorColor) Bdbs(s) H(25px) Pt(10px)\")[0].find_all('span')[-1].text\n",
    "        consumer_cyclical=holdings_tab.find_all('div',\"Mb(25px)\")[1].find_all('div',\"Bdbw(1px) Bdbc($seperatorColor) Bdbs(s) H(25px) Pt(10px)\")[1].find_all('span')[-1].text\n",
    "        financial_services=holdings_tab.find_all('div',\"Mb(25px)\")[1].find_all('div',\"Bdbw(1px) Bdbc($seperatorColor) Bdbs(s) H(25px) Pt(10px)\")[2].find_all('span')[-1].text\n",
    "        real_estate=holdings_tab.find_all('div',\"Mb(25px)\")[1].find_all('div',\"Bdbw(1px) Bdbc($seperatorColor) Bdbs(s) H(25px) Pt(10px)\")[3].find_all('span')[-1].text\n",
    "        consumer_defensive=holdings_tab.find_all('div',\"Mb(25px)\")[1].find_all('div',\"Bdbw(1px) Bdbc($seperatorColor) Bdbs(s) H(25px) Pt(10px)\")[4].find_all('span')[-1].text\n",
    "        healthcare=holdings_tab.find_all('div',\"Mb(25px)\")[1].find_all('div',\"Bdbw(1px) Bdbc($seperatorColor) Bdbs(s) H(25px) Pt(10px)\")[5].find_all('span')[-1].text\n",
    "        utilities=holdings_tab.find_all('div',\"Mb(25px)\")[1].find_all('div',\"Bdbw(1px) Bdbc($seperatorColor) Bdbs(s) H(25px) Pt(10px)\")[6].find_all('span')[-1].text\n",
    "        cummunication_services=holdings_tab.find_all('div',\"Mb(25px)\")[1].find_all('div',\"Bdbw(1px) Bdbc($seperatorColor) Bdbs(s) H(25px) Pt(10px)\")[7].find_all('span')[-1].text\n",
    "        energy=holdings_tab.find_all('div',\"Mb(25px)\")[1].find_all('div',\"Bdbw(1px) Bdbc($seperatorColor) Bdbs(s) H(25px) Pt(10px)\")[8].find_all('span')[-1].text\n",
    "        industries=holdings_tab.find_all('div',\"Mb(25px)\")[1].find_all('div',\"Bdbw(1px) Bdbc($seperatorColor) Bdbs(s) H(25px) Pt(10px)\")[9].find_all('span')[-1].text\n",
    "        technology=holdings_tab.find_all('div',\"Mb(25px)\")[1].find_all('div',\"Bdbw(1px) Bdbc($seperatorColor) Bdbs(s) H(25px) Pt(10px)\")[10].find_all('span')[-1].text\n",
    "        # Attributes on Performance tab's Trailing Returns section \n",
    "        ytd=performance_tab.find_all('div',\"Mb(25px)\")[1].find_all('div',\"Bdbw(1px) Bdbc($seperatorColor) Bdbs(s) H(25px) Pt(10px)\")[0].find_all('span')[-2].text\n",
    "        m1=performance_tab.find_all('div',\"Mb(25px)\")[1].find_all('div',\"Bdbw(1px) Bdbc($seperatorColor) Bdbs(s) H(25px) Pt(10px)\")[1].find_all('span')[-2].text\n",
    "        m3=performance_tab.find_all('div',\"Mb(25px)\")[1].find_all('div',\"Bdbw(1px) Bdbc($seperatorColor) Bdbs(s) H(25px) Pt(10px)\")[2].find_all('span')[-2].text\n",
    "        y1=performance_tab.find_all('div',\"Mb(25px)\")[1].find_all('div',\"Bdbw(1px) Bdbc($seperatorColor) Bdbs(s) H(25px) Pt(10px)\")[3].find_all('span')[-2].text\n",
    "        y3=performance_tab.find_all('div',\"Mb(25px)\")[1].find_all('div',\"Bdbw(1px) Bdbc($seperatorColor) Bdbs(s) H(25px) Pt(10px)\")[4].find_all('span')[-2].text\n",
    "        y5=performance_tab.find_all('div',\"Mb(25px)\")[1].find_all('div',\"Bdbw(1px) Bdbc($seperatorColor) Bdbs(s) H(25px) Pt(10px)\")[5].find_all('span')[-2].text\n",
    "        y10=performance_tab.find_all('div',\"Mb(25px)\")[1].find_all('div',\"Bdbw(1px) Bdbc($seperatorColor) Bdbs(s) H(25px) Pt(10px)\")[6].find_all('span')[-2].text\n",
    "        last_bull_mkt=performance_tab.find_all('div',\"Mb(25px)\")[1].find_all('div',\"Bdbw(1px) Bdbc($seperatorColor) Bdbs(s) H(25px) Pt(10px)\")[7].find_all('span')[-2].text\n",
    "        last_bear_mkt=performance_tab.find_all('div',\"Mb(25px)\")[1].find_all('div',\"Bdbw(1px) Bdbc($seperatorColor) Bdbs(s) H(25px) Pt(10px)\")[8].find_all('span')[-2].text\n",
    "        # Attributes on Performance tab's Trailing Returns section \n",
    "        annual_returns_hist = defaultdict(list)\n",
    "        year = 0\n",
    "        if len(performance_tab.find_all('div',\"Mb(25px)\")[2].find_all('div',\"Bdbw(1px) Bdbc($seperatorColor) Bdbs(s) H(25px) Pt(10px)\"))>0:\n",
    "            for i in range(len(performance_tab.find_all('div',\"Mb(25px)\")[2].find_all('div',\"Bdbw(1px) Bdbc($seperatorColor) Bdbs(s) H(25px) Pt(10px)\"))): \n",
    "                year = int(performance_tab.find_all('div',\"Mb(25px)\")[2].find_all('div',\"Bdbw(1px) Bdbc($seperatorColor) Bdbs(s) H(25px) Pt(10px)\")[i-1].find_all('span')[0].text)\n",
    "                val = performance_tab.find_all('div',\"Mb(25px)\")[2].find_all('div',\"Bdbw(1px) Bdbc($seperatorColor) Bdbs(s) H(25px) Pt(10px)\")[i-1].find_all('span')[-2].text\n",
    "                annual_returns_hist[year].append(val)\n",
    "        # Attributes on Risk tab's Risk Overview section \n",
    "        morning_star_risk_rating=risk_tab.find_all('div',\"Mb(25px)\")[0].find_all('div',\"Bdbw(1px) Bdbc($seperatorColor) Bdbs(s) H(25px) Pt(10px)\")[0].find_all('span')[-1].text\n",
    "        number_of_years_up=risk_tab.find_all('div',\"Mb(25px)\")[0].find_all('div',\"Bdbw(1px) Bdbc($seperatorColor) Bdbs(s) H(25px) Pt(10px)\")[1].find_all('span')[-1].text\n",
    "        number_of_years_down=risk_tab.find_all('div',\"Mb(25px)\")[0].find_all('div',\"Bdbw(1px) Bdbc($seperatorColor) Bdbs(s) H(25px) Pt(10px)\")[2].find_all('span')[-1].text\n",
    "        # Attributes on Risk tab's Risk Statistics section \n",
    "        alpha_3_year=risk_tab.find_all('div',\"Mb(25px)\")[1].find_all('div',\"Bdbw(1px) Bdbc($seperatorColor) Bdbs(s) H(25px) Pt(10px)\")[0].find_all('span')[1].text\n",
    "        alpha_5_year=risk_tab.find_all('div',\"Mb(25px)\")[1].find_all('div',\"Bdbw(1px) Bdbc($seperatorColor) Bdbs(s) H(25px) Pt(10px)\")[0].find_all('span')[4].text\n",
    "        alpha_10_year=risk_tab.find_all('div',\"Mb(25px)\")[1].find_all('div',\"Bdbw(1px) Bdbc($seperatorColor) Bdbs(s) H(25px) Pt(10px)\")[0].find_all('span')[7].text\n",
    "        beat_3_year=risk_tab.find_all('div',\"Mb(25px)\")[1].find_all('div',\"Bdbw(1px) Bdbc($seperatorColor) Bdbs(s) H(25px) Pt(10px)\")[1].find_all('span')[1].text\n",
    "        beta_5_year=risk_tab.find_all('div',\"Mb(25px)\")[1].find_all('div',\"Bdbw(1px) Bdbc($seperatorColor) Bdbs(s) H(25px) Pt(10px)\")[1].find_all('span')[4].text\n",
    "        beta_10_year=risk_tab.find_all('div',\"Mb(25px)\")[1].find_all('div',\"Bdbw(1px) Bdbc($seperatorColor) Bdbs(s) H(25px) Pt(10px)\")[1].find_all('span')[7].text\n",
    "        mean_annual_ret_3_year=risk_tab.find_all('div',\"Mb(25px)\")[1].find_all('div',\"Bdbw(1px) Bdbc($seperatorColor) Bdbs(s) H(25px) Pt(10px)\")[2].find_all('span')[1].text\n",
    "        mean_annual_ret_5_year=risk_tab.find_all('div',\"Mb(25px)\")[1].find_all('div',\"Bdbw(1px) Bdbc($seperatorColor) Bdbs(s) H(25px) Pt(10px)\")[2].find_all('span')[4].text\n",
    "        mean_annual_ret_10_year=risk_tab.find_all('div',\"Mb(25px)\")[1].find_all('div',\"Bdbw(1px) Bdbc($seperatorColor) Bdbs(s) H(25px) Pt(10px)\")[2].find_all('span')[7].text\n",
    "        rSq_3_year=risk_tab.find_all('div',\"Mb(25px)\")[1].find_all('div',\"Bdbw(1px) Bdbc($seperatorColor) Bdbs(s) H(25px) Pt(10px)\")[3].find_all('span')[1].text\n",
    "        rSq_5_year=risk_tab.find_all('div',\"Mb(25px)\")[1].find_all('div',\"Bdbw(1px) Bdbc($seperatorColor) Bdbs(s) H(25px) Pt(10px)\")[3].find_all('span')[4].text\n",
    "        rSq_10_year=risk_tab.find_all('div',\"Mb(25px)\")[1].find_all('div',\"Bdbw(1px) Bdbc($seperatorColor) Bdbs(s) H(25px) Pt(10px)\")[3].find_all('span')[7].text\n",
    "        std_dev_3_year=risk_tab.find_all('div',\"Mb(25px)\")[1].find_all('div',\"Bdbw(1px) Bdbc($seperatorColor) Bdbs(s) H(25px) Pt(10px)\")[4].find_all('span')[1].text\n",
    "        std_dev_5_year=risk_tab.find_all('div',\"Mb(25px)\")[1].find_all('div',\"Bdbw(1px) Bdbc($seperatorColor) Bdbs(s) H(25px) Pt(10px)\")[4].find_all('span')[4].text\n",
    "        std_dev_10_year=risk_tab.find_all('div',\"Mb(25px)\")[1].find_all('div',\"Bdbw(1px) Bdbc($seperatorColor) Bdbs(s) H(25px) Pt(10px)\")[4].find_all('span')[7].text\n",
    "        sharpe_3_year=risk_tab.find_all('div',\"Mb(25px)\")[1].find_all('div',\"Bdbw(1px) Bdbc($seperatorColor) Bdbs(s) H(25px) Pt(10px)\")[5].find_all('span')[1].text\n",
    "        sharpe_5_year=risk_tab.find_all('div',\"Mb(25px)\")[1].find_all('div',\"Bdbw(1px) Bdbc($seperatorColor) Bdbs(s) H(25px) Pt(10px)\")[5].find_all('span')[4].text\n",
    "        sharpe_10_year=risk_tab.find_all('div',\"Mb(25px)\")[1].find_all('div',\"Bdbw(1px) Bdbc($seperatorColor) Bdbs(s) H(25px) Pt(10px)\")[5].find_all('span')[7].text\n",
    "        treynor_3_year=risk_tab.find_all('div',\"Mb(25px)\")[1].find_all('div',\"Bdbw(1px) Bdbc($seperatorColor) Bdbs(s) H(25px) Pt(10px)\")[6].find_all('span')[1].text\n",
    "        treynor_5_year=risk_tab.find_all('div',\"Mb(25px)\")[1].find_all('div',\"Bdbw(1px) Bdbc($seperatorColor) Bdbs(s) H(25px) Pt(10px)\")[6].find_all('span')[4].text\n",
    "        treynor_10_year=risk_tab.find_all('div',\"Mb(25px)\")[1].find_all('div',\"Bdbw(1px) Bdbc($seperatorColor) Bdbs(s) H(25px) Pt(10px)\")[6].find_all('span')[7].text\n",
    "        yield ticker,(\"mf name\",mf_name,\n",
    "                      \"category_name\",category_name,\n",
    "                      \"family\",family,\n",
    "                      \"net assets value\",net_assets_value,\n",
    "                      \"yield (income)\",income_yield,\n",
    "                      \"morning star rating\",morning_star_rating,\n",
    "                      \"inception date\",inception_date,\n",
    "                      \"fund holdings turnover\",fund_holdings_turnover,\n",
    "                      \"fund expense ratio\",fund_expense_ratio,\n",
    "                      \"cash%\",cash,\n",
    "                      \"stock%\",stock,\n",
    "                      \"bond%\",bond,\n",
    "                      \"preferred%\",preferred,\n",
    "                      \"convertible%\",convertible,\n",
    "                      \"basic materials\",basic_materials,\n",
    "                      \"consumer cyclical\",consumer_cyclical,\n",
    "                      \"financial services\",financial_services,\n",
    "                      \"real estate\",real_estate,\n",
    "                      \"consumer defensive\",consumer_defensive,\n",
    "                      \"healthcare\",healthcare,\n",
    "                      \"utilities\",utilities,\n",
    "                      \"cummunication services\",cummunication_services,\n",
    "                      \"energy\",energy,\n",
    "                      \"industries\",industries,\n",
    "                      \"technology\",technology,\n",
    "                      \"ytd\",ytd,\n",
    "                      \"1m ret\",m1,\n",
    "                      \"3m ret\",m3,\n",
    "                      \"1y ret\",y1,\n",
    "                      \"3y ret\",y3,\n",
    "                      \"5y ret\",y5,\n",
    "                      \"10y ret\",y10,\n",
    "                      \"annual_returns_hist\",annual_returns_hist,\n",
    "                      \"last bull mkt ret\",last_bull_mkt,\n",
    "                      \"last bear mkt ret\",last_bear_mkt,\n",
    "                      \"morning star risk rating\",morning_star_risk_rating,\n",
    "                      \"number of years up\",number_of_years_up,\n",
    "                      \"number of years down\",number_of_years_down,\n",
    "                      \"alpha 3 year\",alpha_3_year,\n",
    "                      \"alpha 5 year\",alpha_5_year,\n",
    "                      \"alpha 10 year\",alpha_10_year,\n",
    "                      \"beat 3 year\",beat_3_year,\n",
    "                      \"beta 5 year\",beta_5_year,\n",
    "                      \"beta 10 year\",beta_10_year,\n",
    "                      \"mean annual ret 3 year\",mean_annual_ret_3_year,\n",
    "                      \"mean annual ret 5 year\",mean_annual_ret_5_year,\n",
    "                      \"mean annual ret 10 year\",mean_annual_ret_10_year,\n",
    "                      \"r-sq 3 year\",rSq_3_year,\n",
    "                      \"r-sq 5 year\",rSq_5_year,\n",
    "                      \"r-sq 10 year\",rSq_10_year,\n",
    "                      \"std dev 3 year\",std_dev_3_year,\n",
    "                      \"std dev 5 year\",std_dev_5_year,\n",
    "                      \"std dev 10 year\",std_dev_10_year,\n",
    "                      \"sharpe 3 year\",sharpe_3_year,\n",
    "                      \"sharpe 5 year\",sharpe_5_year,\n",
    "                      \"sharpe 10 year\",sharpe_10_year,\n",
    "                      \"treynor 3 year\",treynor_3_year,\n",
    "                      \"treynor 5 year\",treynor_5_year,\n",
    "                      \"treynor 10 year\",treynor_10_year,\n",
    "                      \"time\",time.time()-start,\n",
    "                     )\n",
    "\n",
    "    def steps(self):\n",
    "        return [\n",
    "            MRStep(mapper=self.mapper1),\n",
    "            MRStep(mapper=self.mapper2)\n",
    "        ]\n",
    "\n",
    "if __name__ == \"__main__\":\n",
    "    MRMutualFundDataScraper.run()"
   ]
  },
  {
   "cell_type": "markdown",
   "id": "af6b283b",
   "metadata": {},
   "source": [
    "# Running mapreduce job"
   ]
  },
  {
   "cell_type": "code",
   "execution_count": 29,
   "id": "2fab0480",
   "metadata": {},
   "outputs": [
    {
     "name": "stdout",
     "output_type": "stream",
     "text": [
      "No configs found; falling back on auto-configuration\n",
      "No configs specified for local runner\n",
      "Creating temp directory /var/folders/jc/hcdncf153dddzghwy087kzww0000gn/T/mf_data_scraper.celinegeorgethokalath.20230225.094754.568061\n",
      "Running step 1 of 2...\n",
      "reading from STDIN\n",
      "Running step 2 of 2...\n",
      "job output is in /var/folders/jc/hcdncf153dddzghwy087kzww0000gn/T/mf_data_scraper.celinegeorgethokalath.20230225.094754.568061/output\n",
      "Streaming final output from /var/folders/jc/hcdncf153dddzghwy087kzww0000gn/T/mf_data_scraper.celinegeorgethokalath.20230225.094754.568061/output...\n",
      "Removing temp directory /var/folders/jc/hcdncf153dddzghwy087kzww0000gn/T/mf_data_scraper.celinegeorgethokalath.20230225.094754.568061...\n"
     ]
    }
   ],
   "source": [
    "! python mf_data_scraper.py -r local --jobconf mapreduce.job.maps=5 <test_in_out/MF_tickers_1to10.txt >test_in_out/MF_data_v7.txt"
   ]
  },
  {
   "cell_type": "code",
   "execution_count": null,
   "id": "827755dc",
   "metadata": {},
   "outputs": [],
   "source": []
  },
  {
   "cell_type": "markdown",
   "id": "48ade7f2",
   "metadata": {},
   "source": [
    "# testing / decoding / debugging section"
   ]
  },
  {
   "cell_type": "code",
   "execution_count": 3,
   "id": "14b0e6d3",
   "metadata": {},
   "outputs": [],
   "source": [
    "ticker=\"AAAAX\"\n",
    "summary_tab = BeautifulSoup(requests.get('https://finance.yahoo.com/quote/{}?p={}'.format(ticker,ticker),headers=headers).text,'html.parser')\n",
    "profile_tab = BeautifulSoup(requests.get('https://finance.yahoo.com/quote/{}/profile?p={}'.format(ticker,ticker),headers=headers).text, 'html.parser')\n",
    "risk_tab = BeautifulSoup(requests.get('https://finance.yahoo.com/quote/{}/risk?p={}'.format(ticker,ticker),headers=headers).text, 'html.parser')\n",
    "holdings_tab = BeautifulSoup(requests.get('https://finance.yahoo.com/quote/{}/holdings?p={}'.format(ticker,ticker),headers=headers).text, 'html.parser')\n",
    "performance_tab = BeautifulSoup(requests.get('https://finance.yahoo.com/quote/{}/performance?p={}'.format(ticker,ticker),headers=headers).text, 'html.parser')\n",
    "documents_set = [summary_tab,profile_tab,risk_tab,holdings_tab,performance_tab]"
   ]
  },
  {
   "cell_type": "code",
   "execution_count": 4,
   "id": "a98b7bb6",
   "metadata": {},
   "outputs": [],
   "source": [
    "a = summary_tab.find_all('h1')[0].text"
   ]
  },
  {
   "cell_type": "code",
   "execution_count": 5,
   "id": "b5ad2984",
   "metadata": {},
   "outputs": [
    {
     "data": {
      "text/plain": [
       "'DWS RREEF Real Assets Fund - Class A (AAAAX)'"
      ]
     },
     "execution_count": 5,
     "metadata": {},
     "output_type": "execute_result"
    }
   ],
   "source": [
    "a"
   ]
  },
  {
   "cell_type": "markdown",
   "id": "dba3b2e5",
   "metadata": {},
   "source": [
    "### Profile tab: Fund Overview section - 6 attributes (all except attribute with index value [3]"
   ]
  },
  {
   "cell_type": "code",
   "execution_count": 18,
   "id": "678b5449",
   "metadata": {},
   "outputs": [
    {
     "data": {
      "text/plain": [
       "'World Allocation'"
      ]
     },
     "execution_count": 18,
     "metadata": {},
     "output_type": "execute_result"
    }
   ],
   "source": [
    "# category\n",
    "profile_tab.find_all('div',\"Mb(25px)\")[0].find_all('div',\"Bdbw(1px) Bdbc($seperatorColor) Bdbs(s) H(25px) Pt(10px)\")[0].find_all('span')[-1].text"
   ]
  },
  {
   "cell_type": "code",
   "execution_count": null,
   "id": "db73d924",
   "metadata": {},
   "outputs": [],
   "source": [
    "# Fund Family\n",
    "profile_tab.find_all('div',\"Mb(25px)\")[0].find_all('div',\"Bdbw(1px) Bdbc($seperatorColor) Bdbs(s) H(25px) Pt(10px)\")[1].find_all('span')[-1].text"
   ]
  },
  {
   "cell_type": "code",
   "execution_count": null,
   "id": "753584d3",
   "metadata": {},
   "outputs": [],
   "source": [
    "# Net Assets\n",
    "profile_tab.find_all('div',\"Mb(25px)\")[0].find_all('div',\"Bdbw(1px) Bdbc($seperatorColor) Bdbs(s) H(25px) Pt(10px)\")[2].find_all('span')[-1].text"
   ]
  },
  {
   "cell_type": "code",
   "execution_count": null,
   "id": "a50dcf5b",
   "metadata": {},
   "outputs": [],
   "source": [
    "# (income) Yield\n",
    "profile_tab.find_all('div',\"Mb(25px)\")[0].find_all('div',\"Bdbw(1px) Bdbc($seperatorColor) Bdbs(s) H(25px) Pt(10px)\")[4].find_all('span')[-1].text"
   ]
  },
  {
   "cell_type": "code",
   "execution_count": null,
   "id": "cf846cab",
   "metadata": {},
   "outputs": [],
   "source": [
    "# Morningstar Rating\n",
    "profile_tab.find_all('div',\"Mb(25px)\")[0].find_all('div',\"Bdbw(1px) Bdbc($seperatorColor) Bdbs(s) H(25px) Pt(10px)\")[5].find_all('span')[-1].text"
   ]
  },
  {
   "cell_type": "code",
   "execution_count": null,
   "id": "82341f48",
   "metadata": {},
   "outputs": [],
   "source": [
    "# Inception Date\n",
    "profile_tab.find_all('div',\"Mb(25px)\")[0].find_all('div',\"Bdbw(1px) Bdbc($seperatorColor) Bdbs(s) H(25px) Pt(10px)\")[6].find_all('span')[-1].text"
   ]
  },
  {
   "cell_type": "markdown",
   "id": "9dc3a5e8",
   "metadata": {},
   "source": [
    "### Profile Tab: Fund Operations section - attribute with index [2]"
   ]
  },
  {
   "cell_type": "code",
   "execution_count": null,
   "id": "fc673bd0",
   "metadata": {},
   "outputs": [],
   "source": [
    "# Holdings Turnover\n",
    "profile_tab.find_all('div',\"Mb(25px)\")[1].find_all('div',\"Bdbw(1px) Bdbc($seperatorColor) Bdbs(s) H(25px) Pt(10px)\")[2].find_all('span')[-1].text"
   ]
  },
  {
   "cell_type": "markdown",
   "id": "5506d4a7",
   "metadata": {},
   "source": [
    "### Profile tab: Fess & Expenses section - attribute with index [0]"
   ]
  },
  {
   "cell_type": "code",
   "execution_count": null,
   "id": "d67a16b3",
   "metadata": {},
   "outputs": [],
   "source": [
    "# Annual Report Expense atio (net)\n",
    "profile_tab.find_all('div',\"Mb(25px)\")[2].find_all('div',\"Bdbw(1px) Bdbc($seperatorColor) Bdbs(s) H(25px) Pt(10px)\")[0].find_all('span')[-2].text"
   ]
  },
  {
   "cell_type": "markdown",
   "id": "505e9576",
   "metadata": {},
   "source": [
    "### Holdings tab: Portfolio composition % : 5 attributes (all except attribute with index value [3])"
   ]
  },
  {
   "cell_type": "code",
   "execution_count": null,
   "id": "e3e880ae",
   "metadata": {},
   "outputs": [],
   "source": [
    "# cash %\n",
    "holdings_tab.find_all('div',\"Mb(25px)\")[0].find_all('div',\"Bdbw(1px) Bdbc($seperatorColor) Bdbs(s) H(25px) Pt(10px)\")[0].find_all('span')[-1].text"
   ]
  },
  {
   "cell_type": "code",
   "execution_count": null,
   "id": "f785f904",
   "metadata": {},
   "outputs": [],
   "source": [
    "# stocks %\n",
    "holdings_tab.find_all('div',\"Mb(25px)\")[0].find_all('div',\"Bdbw(1px) Bdbc($seperatorColor) Bdbs(s) H(25px) Pt(10px)\")[1].find_all('span')[-1].text"
   ]
  },
  {
   "cell_type": "code",
   "execution_count": null,
   "id": "a06d2a3a",
   "metadata": {},
   "outputs": [],
   "source": [
    "# Bonds %\n",
    "holdings_tab.find_all('div',\"Mb(25px)\")[0].find_all('div',\"Bdbw(1px) Bdbc($seperatorColor) Bdbs(s) H(25px) Pt(10px)\")[2].find_all('span')[-1].text"
   ]
  },
  {
   "cell_type": "code",
   "execution_count": null,
   "id": "f3df35de",
   "metadata": {},
   "outputs": [],
   "source": [
    "# Preferred %\n",
    "holdings_tab.find_all('div',\"Mb(25px)\")[0].find_all('div',\"Bdbw(1px) Bdbc($seperatorColor) Bdbs(s) H(25px) Pt(10px)\")[4].find_all('span')[-1].text"
   ]
  },
  {
   "cell_type": "code",
   "execution_count": null,
   "id": "db86300b",
   "metadata": {},
   "outputs": [],
   "source": [
    "# Convertible %\n",
    "holdings_tab.find_all('div',\"Mb(25px)\")[0].find_all('div',\"Bdbw(1px) Bdbc($seperatorColor) Bdbs(s) H(25px) Pt(10px)\")[5].find_all('span')[-1].text"
   ]
  },
  {
   "cell_type": "markdown",
   "id": "8b48c06c",
   "metadata": {},
   "source": [
    "### Holdings tab: Sector Weightings % : all 11 attributes"
   ]
  },
  {
   "cell_type": "code",
   "execution_count": null,
   "id": "575ac2f3",
   "metadata": {},
   "outputs": [],
   "source": [
    "# Basic Materials %\n",
    "holdings_tab.find_all('div',\"Mb(25px)\")[1].find_all('div',\"Bdbw(1px) Bdbc($seperatorColor) Bdbs(s) H(25px) Pt(10px)\")[0].find_all('span')[-1].text"
   ]
  },
  {
   "cell_type": "code",
   "execution_count": null,
   "id": "7a4b5b4a",
   "metadata": {},
   "outputs": [],
   "source": [
    "# Consumer Cyclical %\n",
    "holdings_tab.find_all('div',\"Mb(25px)\")[1].find_all('div',\"Bdbw(1px) Bdbc($seperatorColor) Bdbs(s) H(25px) Pt(10px)\")[1].find_all('span')[-1].text"
   ]
  },
  {
   "cell_type": "code",
   "execution_count": null,
   "id": "ca11b4a5",
   "metadata": {},
   "outputs": [],
   "source": [
    "# Financial Services %\n",
    "holdings_tab.find_all('div',\"Mb(25px)\")[1].find_all('div',\"Bdbw(1px) Bdbc($seperatorColor) Bdbs(s) H(25px) Pt(10px)\")[2].find_all('span')[-1].text"
   ]
  },
  {
   "cell_type": "code",
   "execution_count": null,
   "id": "d24ca2d8",
   "metadata": {},
   "outputs": [],
   "source": [
    "# Real Estate %\n",
    "holdings_tab.find_all('div',\"Mb(25px)\")[1].find_all('div',\"Bdbw(1px) Bdbc($seperatorColor) Bdbs(s) H(25px) Pt(10px)\")[3].find_all('span')[-1].text"
   ]
  },
  {
   "cell_type": "code",
   "execution_count": null,
   "id": "732bd1f1",
   "metadata": {},
   "outputs": [],
   "source": [
    "# Consumer Defensive %\n",
    "holdings_tab.find_all('div',\"Mb(25px)\")[1].find_all('div',\"Bdbw(1px) Bdbc($seperatorColor) Bdbs(s) H(25px) Pt(10px)\")[4].find_all('span')[-1].text"
   ]
  },
  {
   "cell_type": "code",
   "execution_count": null,
   "id": "7beb5904",
   "metadata": {},
   "outputs": [],
   "source": [
    "# Healthcare %\n",
    "holdings_tab.find_all('div',\"Mb(25px)\")[1].find_all('div',\"Bdbw(1px) Bdbc($seperatorColor) Bdbs(s) H(25px) Pt(10px)\")[5].find_all('span')[-1].text"
   ]
  },
  {
   "cell_type": "code",
   "execution_count": null,
   "id": "32983d87",
   "metadata": {},
   "outputs": [],
   "source": [
    "# Utilities %\n",
    "holdings_tab.find_all('div',\"Mb(25px)\")[1].find_all('div',\"Bdbw(1px) Bdbc($seperatorColor) Bdbs(s) H(25px) Pt(10px)\")[6].find_all('span')[-1].text"
   ]
  },
  {
   "cell_type": "code",
   "execution_count": null,
   "id": "c3c2d262",
   "metadata": {},
   "outputs": [],
   "source": [
    "# Communication Services\n",
    "holdings_tab.find_all('div',\"Mb(25px)\")[1].find_all('div',\"Bdbw(1px) Bdbc($seperatorColor) Bdbs(s) H(25px) Pt(10px)\")[7].find_all('span')[-1].text"
   ]
  },
  {
   "cell_type": "code",
   "execution_count": null,
   "id": "98b005cf",
   "metadata": {},
   "outputs": [],
   "source": [
    "# Energy %\n",
    "holdings_tab.find_all('div',\"Mb(25px)\")[1].find_all('div',\"Bdbw(1px) Bdbc($seperatorColor) Bdbs(s) H(25px) Pt(10px)\")[8].find_all('span')[-1].text"
   ]
  },
  {
   "cell_type": "code",
   "execution_count": null,
   "id": "842affea",
   "metadata": {},
   "outputs": [],
   "source": [
    "# Industries %\n",
    "holdings_tab.find_all('div',\"Mb(25px)\")[1].find_all('div',\"Bdbw(1px) Bdbc($seperatorColor) Bdbs(s) H(25px) Pt(10px)\")[9].find_all('span')[-1].text"
   ]
  },
  {
   "cell_type": "code",
   "execution_count": null,
   "id": "ed8648d5",
   "metadata": {},
   "outputs": [],
   "source": [
    "# Technology %\n",
    "holdings_tab.find_all('div',\"Mb(25px)\")[1].find_all('div',\"Bdbw(1px) Bdbc($seperatorColor) Bdbs(s) H(25px) Pt(10px)\")[10].find_all('span')[-1].text"
   ]
  },
  {
   "cell_type": "markdown",
   "id": "43594465",
   "metadata": {},
   "source": [
    "### Performanca tab: Trailing Returns - 9 attributes"
   ]
  },
  {
   "cell_type": "code",
   "execution_count": null,
   "id": "4032de83",
   "metadata": {},
   "outputs": [],
   "source": [
    "# YTD\n",
    "performance_tab.find_all('div',\"Mb(25px)\")[1].find_all('div',\"Bdbw(1px) Bdbc($seperatorColor) Bdbs(s) H(25px) Pt(10px)\")[0].find_all('span')[-2].text"
   ]
  },
  {
   "cell_type": "code",
   "execution_count": null,
   "id": "f416e471",
   "metadata": {},
   "outputs": [],
   "source": [
    "# 1-Month\n",
    "performance_tab.find_all('div',\"Mb(25px)\")[1].find_all('div',\"Bdbw(1px) Bdbc($seperatorColor) Bdbs(s) H(25px) Pt(10px)\")[1].find_all('span')[-2].text"
   ]
  },
  {
   "cell_type": "code",
   "execution_count": null,
   "id": "affe9da1",
   "metadata": {},
   "outputs": [],
   "source": [
    "# 3-Month\n",
    "performance_tab.find_all('div',\"Mb(25px)\")[1].find_all('div',\"Bdbw(1px) Bdbc($seperatorColor) Bdbs(s) H(25px) Pt(10px)\")[2].find_all('span')[-2].text"
   ]
  },
  {
   "cell_type": "code",
   "execution_count": null,
   "id": "8a3a9455",
   "metadata": {},
   "outputs": [],
   "source": [
    "# 1-Year\n",
    "performance_tab.find_all('div',\"Mb(25px)\")[1].find_all('div',\"Bdbw(1px) Bdbc($seperatorColor) Bdbs(s) H(25px) Pt(10px)\")[3].find_all('span')[-2].text"
   ]
  },
  {
   "cell_type": "code",
   "execution_count": null,
   "id": "ace4acae",
   "metadata": {},
   "outputs": [],
   "source": [
    "# 3-Year\n",
    "performance_tab.find_all('div',\"Mb(25px)\")[1].find_all('div',\"Bdbw(1px) Bdbc($seperatorColor) Bdbs(s) H(25px) Pt(10px)\")[4].find_all('span')[-2].text"
   ]
  },
  {
   "cell_type": "code",
   "execution_count": null,
   "id": "3120d720",
   "metadata": {},
   "outputs": [],
   "source": [
    "# 5-Year\n",
    "performance_tab.find_all('div',\"Mb(25px)\")[1].find_all('div',\"Bdbw(1px) Bdbc($seperatorColor) Bdbs(s) H(25px) Pt(10px)\")[5].find_all('span')[-2].text"
   ]
  },
  {
   "cell_type": "code",
   "execution_count": null,
   "id": "71b6c47c",
   "metadata": {},
   "outputs": [],
   "source": [
    "# 10-Year\n",
    "performance_tab.find_all('div',\"Mb(25px)\")[1].find_all('div',\"Bdbw(1px) Bdbc($seperatorColor) Bdbs(s) H(25px) Pt(10px)\")[6].find_all('span')[-2].text"
   ]
  },
  {
   "cell_type": "code",
   "execution_count": null,
   "id": "dc480117",
   "metadata": {},
   "outputs": [],
   "source": [
    "# Last Bull Market\n",
    "performance_tab.find_all('div',\"Mb(25px)\")[1].find_all('div',\"Bdbw(1px) Bdbc($seperatorColor) Bdbs(s) H(25px) Pt(10px)\")[7].find_all('span')[-2].text"
   ]
  },
  {
   "cell_type": "code",
   "execution_count": null,
   "id": "78784d1b",
   "metadata": {},
   "outputs": [],
   "source": [
    "# Last Bear Market\n",
    "performance_tab.find_all('div',\"Mb(25px)\")[1].find_all('div',\"Bdbw(1px) Bdbc($seperatorColor) Bdbs(s) H(25px) Pt(10px)\")[8].find_all('span')[-2].text"
   ]
  },
  {
   "cell_type": "markdown",
   "id": "2d384463",
   "metadata": {},
   "source": [
    "### Performance tab: Annual Total Returns History section - Values for each of the years starting 2001 till 2020, if available"
   ]
  },
  {
   "cell_type": "code",
   "execution_count": null,
   "id": "474f3849",
   "metadata": {},
   "outputs": [],
   "source": [
    "len(performance_tab.find_all('div',\"Mb(25px)\")[2].find_all('div',\"Bdbw(1px) Bdbc($seperatorColor) Bdbs(s) H(25px) Pt(10px)\"))"
   ]
  },
  {
   "cell_type": "code",
   "execution_count": null,
   "id": "7ac1ca70",
   "metadata": {},
   "outputs": [],
   "source": [
    "year = performance_tab.find_all('div',\"Mb(25px)\")[2].find_all('div',\"Bdbw(1px) Bdbc($seperatorColor) Bdbs(s) H(25px) Pt(10px)\")[0].find_all('span')[0].text"
   ]
  },
  {
   "cell_type": "code",
   "execution_count": null,
   "id": "80e25682",
   "metadata": {},
   "outputs": [],
   "source": [
    "performance_tab.find_all('div',\"Mb(25px)\")[2].find_all('div',\"Bdbw(1px) Bdbc($seperatorColor) Bdbs(s) H(25px) Pt(10px)\")[1].find_all('span')[-2].text"
   ]
  },
  {
   "cell_type": "code",
   "execution_count": null,
   "id": "70b2ad0e",
   "metadata": {},
   "outputs": [],
   "source": [
    "annual_returns_hist = defaultdict(list)\n",
    "year = int(performance_tab.find_all('div',\"Mb(25px)\")[2].find_all('div',\"Bdbw(1px) Bdbc($seperatorColor) Bdbs(s) H(25px) Pt(10px)\")[0].find_all('span')[0].text)\n",
    "for i in range(len(performance_tab.find_all('div',\"Mb(25px)\")[2].find_all('div',\"Bdbw(1px) Bdbc($seperatorColor) Bdbs(s) H(25px) Pt(10px)\"))): \n",
    "    val = performance_tab.find_all('div',\"Mb(25px)\")[2].find_all('div',\"Bdbw(1px) Bdbc($seperatorColor) Bdbs(s) H(25px) Pt(10px)\")[i].find_all('span')[-2].text\n",
    "    annual_returns_hist[year].append(val)\n",
    "    year -= 1"
   ]
  },
  {
   "cell_type": "code",
   "execution_count": null,
   "id": "9c0353c7",
   "metadata": {},
   "outputs": [],
   "source": [
    "annual_returns_hist"
   ]
  },
  {
   "cell_type": "markdown",
   "id": "f8a064b5",
   "metadata": {},
   "source": [
    "### Risk tab: Risk Overview section - 3 attributes"
   ]
  },
  {
   "cell_type": "code",
   "execution_count": null,
   "id": "ce85469c",
   "metadata": {},
   "outputs": [],
   "source": [
    "# Morningstar Risk Rating\n",
    "risk_tab.find_all('div',\"Mb(25px)\")[0].find_all('div',\"Bdbw(1px) Bdbc($seperatorColor) Bdbs(s) H(25px) Pt(10px)\")[0].find_all('span')[-1].text"
   ]
  },
  {
   "cell_type": "code",
   "execution_count": null,
   "id": "533fa1cf",
   "metadata": {},
   "outputs": [],
   "source": [
    "# Number of Years Up\n",
    "risk_tab.find_all('div',\"Mb(25px)\")[0].find_all('div',\"Bdbw(1px) Bdbc($seperatorColor) Bdbs(s) H(25px) Pt(10px)\")[1].find_all('span')[-1].text"
   ]
  },
  {
   "cell_type": "code",
   "execution_count": null,
   "id": "d2ec338d",
   "metadata": {},
   "outputs": [],
   "source": [
    "# Number of Years Down\n",
    "risk_tab.find_all('div',\"Mb(25px)\")[0].find_all('div',\"Bdbw(1px) Bdbc($seperatorColor) Bdbs(s) H(25px) Pt(10px)\")[2].find_all('span')[-1].text"
   ]
  },
  {
   "cell_type": "markdown",
   "id": "1cc09b25",
   "metadata": {},
   "source": [
    "### Risk tab: Risk Statistics section - 7 attributes and sub  (with3-year, 5-year and 10-year values at index values [1], [4], and [7]"
   ]
  },
  {
   "cell_type": "markdown",
   "id": "80bc83ca",
   "metadata": {},
   "source": [
    "#### Alpha"
   ]
  },
  {
   "cell_type": "code",
   "execution_count": null,
   "id": "a46ee1eb",
   "metadata": {},
   "outputs": [],
   "source": [
    "# 3 Years Alpha\n",
    "risk_tab.find_all('div',\"Mb(25px)\")[1].find_all('div',\"Bdbw(1px) Bdbc($seperatorColor) Bdbs(s) H(25px) Pt(10px)\")[0].find_all('span')[1].text"
   ]
  },
  {
   "cell_type": "code",
   "execution_count": null,
   "id": "f58e4be3",
   "metadata": {},
   "outputs": [],
   "source": [
    "# 5 Years Alpha\n",
    "risk_tab.find_all('div',\"Mb(25px)\")[1].find_all('div',\"Bdbw(1px) Bdbc($seperatorColor) Bdbs(s) H(25px) Pt(10px)\")[0].find_all('span')[4].text"
   ]
  },
  {
   "cell_type": "code",
   "execution_count": null,
   "id": "67938149",
   "metadata": {},
   "outputs": [],
   "source": [
    "# 10 Years Alpha\n",
    "risk_tab.find_all('div',\"Mb(25px)\")[1].find_all('div',\"Bdbw(1px) Bdbc($seperatorColor) Bdbs(s) H(25px) Pt(10px)\")[0].find_all('span')[7].text"
   ]
  },
  {
   "cell_type": "markdown",
   "id": "2fac8007",
   "metadata": {},
   "source": [
    "#### BETA"
   ]
  },
  {
   "cell_type": "code",
   "execution_count": null,
   "id": "bd6e853a",
   "metadata": {},
   "outputs": [],
   "source": [
    "# 3 Years BETA\n",
    "risk_tab.find_all('div',\"Mb(25px)\")[1].find_all('div',\"Bdbw(1px) Bdbc($seperatorColor) Bdbs(s) H(25px) Pt(10px)\")[1].find_all('span')[1].text"
   ]
  },
  {
   "cell_type": "code",
   "execution_count": null,
   "id": "903b46b0",
   "metadata": {},
   "outputs": [],
   "source": [
    "# 5 Years BETA\n",
    "risk_tab.find_all('div',\"Mb(25px)\")[1].find_all('div',\"Bdbw(1px) Bdbc($seperatorColor) Bdbs(s) H(25px) Pt(10px)\")[1].find_all('span')[4].text"
   ]
  },
  {
   "cell_type": "code",
   "execution_count": null,
   "id": "e65fe8e0",
   "metadata": {},
   "outputs": [],
   "source": [
    "# 10 Years BETA\n",
    "risk_tab.find_all('div',\"Mb(25px)\")[1].find_all('div',\"Bdbw(1px) Bdbc($seperatorColor) Bdbs(s) H(25px) Pt(10px)\")[1].find_all('span')[7].text"
   ]
  },
  {
   "cell_type": "markdown",
   "id": "a548526a",
   "metadata": {},
   "source": [
    "#### Mean Annual Return"
   ]
  },
  {
   "cell_type": "code",
   "execution_count": null,
   "id": "f164775c",
   "metadata": {},
   "outputs": [],
   "source": [
    "# 3 Years Mean Annual Return\n",
    "risk_tab.find_all('div',\"Mb(25px)\")[1].find_all('div',\"Bdbw(1px) Bdbc($seperatorColor) Bdbs(s) H(25px) Pt(10px)\")[2].find_all('span')[1].text"
   ]
  },
  {
   "cell_type": "code",
   "execution_count": null,
   "id": "b9d294dc",
   "metadata": {},
   "outputs": [],
   "source": [
    "# 5 Years Mean Annual Return\n",
    "risk_tab.find_all('div',\"Mb(25px)\")[1].find_all('div',\"Bdbw(1px) Bdbc($seperatorColor) Bdbs(s) H(25px) Pt(10px)\")[2].find_all('span')[4].text"
   ]
  },
  {
   "cell_type": "code",
   "execution_count": null,
   "id": "bc308d86",
   "metadata": {},
   "outputs": [],
   "source": [
    "# 10 Years Mean Annual Return\n",
    "risk_tab.find_all('div',\"Mb(25px)\")[1].find_all('div',\"Bdbw(1px) Bdbc($seperatorColor) Bdbs(s) H(25px) Pt(10px)\")[2].find_all('span')[7].text"
   ]
  },
  {
   "cell_type": "markdown",
   "id": "7e86addb",
   "metadata": {},
   "source": [
    "#### R-squared"
   ]
  },
  {
   "cell_type": "code",
   "execution_count": null,
   "id": "1962a42b",
   "metadata": {},
   "outputs": [],
   "source": [
    "# 3 Years R-squared\n",
    "risk_tab.find_all('div',\"Mb(25px)\")[1].find_all('div',\"Bdbw(1px) Bdbc($seperatorColor) Bdbs(s) H(25px) Pt(10px)\")[3].find_all('span')[1].text"
   ]
  },
  {
   "cell_type": "code",
   "execution_count": null,
   "id": "c6a3b9ca",
   "metadata": {},
   "outputs": [],
   "source": [
    "# 5 Years R-squared\n",
    "risk_tab.find_all('div',\"Mb(25px)\")[1].find_all('div',\"Bdbw(1px) Bdbc($seperatorColor) Bdbs(s) H(25px) Pt(10px)\")[3].find_all('span')[4].text"
   ]
  },
  {
   "cell_type": "code",
   "execution_count": null,
   "id": "b9f0ba2d",
   "metadata": {},
   "outputs": [],
   "source": [
    "# 10 Years R-squared\n",
    "risk_tab.find_all('div',\"Mb(25px)\")[1].find_all('div',\"Bdbw(1px) Bdbc($seperatorColor) Bdbs(s) H(25px) Pt(10px)\")[3].find_all('span')[7].text"
   ]
  },
  {
   "cell_type": "markdown",
   "id": "63f60692",
   "metadata": {},
   "source": [
    "#### Standard Deviation"
   ]
  },
  {
   "cell_type": "code",
   "execution_count": null,
   "id": "67c465a1",
   "metadata": {},
   "outputs": [],
   "source": [
    "# 3 Years Standard Deviation\n",
    "risk_tab.find_all('div',\"Mb(25px)\")[1].find_all('div',\"Bdbw(1px) Bdbc($seperatorColor) Bdbs(s) H(25px) Pt(10px)\")[4].find_all('span')[1].text"
   ]
  },
  {
   "cell_type": "code",
   "execution_count": null,
   "id": "443fd1b0",
   "metadata": {},
   "outputs": [],
   "source": [
    "# 5 Years Standard Deviation\n",
    "risk_tab.find_all('div',\"Mb(25px)\")[1].find_all('div',\"Bdbw(1px) Bdbc($seperatorColor) Bdbs(s) H(25px) Pt(10px)\")[4].find_all('span')[4].text"
   ]
  },
  {
   "cell_type": "code",
   "execution_count": null,
   "id": "f34ea21f",
   "metadata": {},
   "outputs": [],
   "source": [
    "# 10 Years Standard Deviation\n",
    "risk_tab.find_all('div',\"Mb(25px)\")[1].find_all('div',\"Bdbw(1px) Bdbc($seperatorColor) Bdbs(s) H(25px) Pt(10px)\")[4].find_all('span')[7].text"
   ]
  },
  {
   "cell_type": "markdown",
   "id": "3a57aeba",
   "metadata": {},
   "source": [
    "#### Sharpe Ratio"
   ]
  },
  {
   "cell_type": "code",
   "execution_count": null,
   "id": "ca0b26d0",
   "metadata": {},
   "outputs": [],
   "source": [
    "# 3 Years Sharpe Ratio\n",
    "risk_tab.find_all('div',\"Mb(25px)\")[1].find_all('div',\"Bdbw(1px) Bdbc($seperatorColor) Bdbs(s) H(25px) Pt(10px)\")[5].find_all('span')[1].text"
   ]
  },
  {
   "cell_type": "code",
   "execution_count": null,
   "id": "21824ff3",
   "metadata": {},
   "outputs": [],
   "source": [
    "# 5 Years Sharpe Ratio\n",
    "risk_tab.find_all('div',\"Mb(25px)\")[1].find_all('div',\"Bdbw(1px) Bdbc($seperatorColor) Bdbs(s) H(25px) Pt(10px)\")[5].find_all('span')[4].text"
   ]
  },
  {
   "cell_type": "code",
   "execution_count": null,
   "id": "631bf46a",
   "metadata": {},
   "outputs": [],
   "source": [
    "# 10 Years Sharpe Ratio\n",
    "risk_tab.find_all('div',\"Mb(25px)\")[1].find_all('div',\"Bdbw(1px) Bdbc($seperatorColor) Bdbs(s) H(25px) Pt(10px)\")[5].find_all('span')[7].text"
   ]
  },
  {
   "cell_type": "markdown",
   "id": "df86e597",
   "metadata": {},
   "source": [
    "#### Treynor Ratio"
   ]
  },
  {
   "cell_type": "code",
   "execution_count": null,
   "id": "f3201dc1",
   "metadata": {},
   "outputs": [],
   "source": [
    "# 3 Years Treynor Ration\n",
    "risk_tab.find_all('div',\"Mb(25px)\")[1].find_all('div',\"Bdbw(1px) Bdbc($seperatorColor) Bdbs(s) H(25px) Pt(10px)\")[6].find_all('span')[1].text"
   ]
  },
  {
   "cell_type": "code",
   "execution_count": null,
   "id": "b656dd55",
   "metadata": {},
   "outputs": [],
   "source": [
    "# 5 Years Treynor Ration\n",
    "risk_tab.find_all('div',\"Mb(25px)\")[1].find_all('div',\"Bdbw(1px) Bdbc($seperatorColor) Bdbs(s) H(25px) Pt(10px)\")[6].find_all('span')[4].text"
   ]
  },
  {
   "cell_type": "code",
   "execution_count": null,
   "id": "a68b7846",
   "metadata": {},
   "outputs": [],
   "source": [
    "# 10 Years Treynor Ration\n",
    "risk_tab.find_all('div',\"Mb(25px)\")[1].find_all('div',\"Bdbw(1px) Bdbc($seperatorColor) Bdbs(s) H(25px) Pt(10px)\")[6].find_all('span')[7].text"
   ]
  },
  {
   "cell_type": "code",
   "execution_count": null,
   "id": "efa0e693",
   "metadata": {},
   "outputs": [],
   "source": []
  },
  {
   "cell_type": "code",
   "execution_count": null,
   "id": "42a5b4ed",
   "metadata": {},
   "outputs": [],
   "source": []
  },
  {
   "cell_type": "code",
   "execution_count": null,
   "id": "48fdf19c",
   "metadata": {},
   "outputs": [],
   "source": []
  }
 ],
 "metadata": {
  "kernelspec": {
   "display_name": "Python 3 (ipykernel)",
   "language": "python",
   "name": "python3"
  },
  "language_info": {
   "codemirror_mode": {
    "name": "ipython",
    "version": 3
   },
   "file_extension": ".py",
   "mimetype": "text/x-python",
   "name": "python",
   "nbconvert_exporter": "python",
   "pygments_lexer": "ipython3",
   "version": "3.9.7"
  }
 },
 "nbformat": 4,
 "nbformat_minor": 5
}
