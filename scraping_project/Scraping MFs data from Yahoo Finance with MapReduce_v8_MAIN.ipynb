{
 "cells": [
  {
   "cell_type": "markdown",
   "id": "a00214a1",
   "metadata": {},
   "source": [
    "# Scraping financial data from Yahoo Finance"
   ]
  },
  {
   "cell_type": "code",
   "execution_count": 4,
   "id": "f817d1ae",
   "metadata": {},
   "outputs": [],
   "source": [
    "# importing required libraries \n",
    "import pandas as pd\n",
    "import requests\n",
    "from bs4 import BeautifulSoup\n",
    "from collections import defaultdict"
   ]
  },
  {
   "cell_type": "code",
   "execution_count": 3,
   "id": "04b3dc54",
   "metadata": {},
   "outputs": [],
   "source": [
    "# Setting header values required for accessing webpages using Beautiful\n",
    "headers = {'Accept':'text/html,application/xhtml+xml,application/xml;q=0.9,image/webp,image/apng,*/*;exchange;v=b3',\n",
    "                   'Accept-Encoding': 'gzip, deflate, br',\n",
    "                   'Accept-Language': 'en-US,en;q=0.9',\n",
    "                   'Cache-Control': 'max-age=0',\n",
    "                   'Connection': 'close',\n",
    "                   'DNT': '1', # Do Not Track Request Header\n",
    "                   'Pragma': 'no-cache',\n",
    "                   'Referrer': 'https://google.com',\n",
    "                   'User-Agent': 'Mozilla/5.0 (Windows NT 10.0; Win64; x64) AppleWebKit/537.36(KHTML, like Gecko) Chrome/92.0.4515.107 Safari/537.36'\n",
    "                  }"
   ]
  },
  {
   "cell_type": "markdown",
   "id": "5fa9d218",
   "metadata": {},
   "source": [
    "## Specifying input file and output file by\n",
    "#### Mutual Funds\n",
    "Either"
   ]
  },
  {
   "cell_type": "code",
   "execution_count": 5,
   "id": "9b25c3c1",
   "metadata": {},
   "outputs": [],
   "source": [
    "# Manually specifiying ticker symbols, or\n",
    "mf_tickers = []"
   ]
  },
  {
   "cell_type": "markdown",
   "id": "dd3aab61",
   "metadata": {},
   "source": [
    "Or"
   ]
  },
  {
   "cell_type": "code",
   "execution_count": 11,
   "id": "d31ff398",
   "metadata": {},
   "outputs": [],
   "source": [
    "# Alternatively, extracting ticker symbols from input file\n",
    "mf_tickers = list(pd.read_csv('Input/MutualFunds_data.csv')['fund_symbol'][0:])"
   ]
  },
  {
   "cell_type": "code",
   "execution_count": 13,
   "id": "12033d1f",
   "metadata": {},
   "outputs": [
    {
     "data": {
      "text/plain": [
       "23437"
      ]
     },
     "execution_count": 13,
     "metadata": {},
     "output_type": "execute_result"
    }
   ],
   "source": [
    "len(mf_tickers)"
   ]
  },
  {
   "cell_type": "code",
   "execution_count": 14,
   "id": "5e347c6c",
   "metadata": {},
   "outputs": [],
   "source": [
    "# writing ticker values to txt file to be used as input for mapreduce jobs\n",
    "for value in mf_tickers:\n",
    "    with open('test_in_out/MF_tickers.txt','a') as input_file:\n",
    "        ticker = value +'\\n'\n",
    "        input_file.write(ticker)"
   ]
  },
  {
   "cell_type": "markdown",
   "id": "5f14d5e5",
   "metadata": {},
   "source": [
    "#### ETFs"
   ]
  },
  {
   "cell_type": "code",
   "execution_count": 16,
   "id": "7e7f1436",
   "metadata": {},
   "outputs": [],
   "source": [
    "etf_tickers = list(pd.read_csv('Input/ETF_tickers.csv')['ETF_ticker'][0:])"
   ]
  },
  {
   "cell_type": "code",
   "execution_count": 17,
   "id": "45d718a9",
   "metadata": {},
   "outputs": [
    {
     "data": {
      "text/plain": [
       "3035"
      ]
     },
     "execution_count": 17,
     "metadata": {},
     "output_type": "execute_result"
    }
   ],
   "source": [
    "len(etf_tickers)"
   ]
  },
  {
   "cell_type": "code",
   "execution_count": 18,
   "id": "d33a68db",
   "metadata": {},
   "outputs": [],
   "source": [
    "for value in etf_tickers:\n",
    "    with open('test_in_out/ETF_tickers.txt','a') as input_file:\n",
    "        ticker = value +'\\n'\n",
    "        input_file.write(ticker)"
   ]
  },
  {
   "cell_type": "markdown",
   "id": "fe6929ee",
   "metadata": {},
   "source": [
    "## Creating web scraper using Beautifulsoup as a mapreduce job"
   ]
  },
  {
   "cell_type": "code",
   "execution_count": 153,
   "id": "9ab7e675",
   "metadata": {},
   "outputs": [
    {
     "name": "stdout",
     "output_type": "stream",
     "text": [
      "Overwriting mf_data_scraper.py\n"
     ]
    }
   ],
   "source": [
    "%%file mf_data_scraper.py\n",
    "from mrjob.job import MRJob\n",
    "from mrjob.protocol import JSONValueProtocol\n",
    "from mrjob.step import MRStep\n",
    "import requests\n",
    "from bs4 import BeautifulSoup\n",
    "import time\n",
    "import json\n",
    "from collections import defaultdict\n",
    "\n",
    "class MRMutualFundDataScraper(MRJob):\n",
    "    \n",
    "    def mapper_read_ticker(self,_,ticker):\n",
    "        # accessing ticker symbol from text file\n",
    "        yield None,ticker\n",
    "        \n",
    "    def mapper_2(self,_,ticker):\n",
    "        # Setting header values required for accessing webpages using Beautiful\n",
    "        headers = {'Accept':'text/html,application/xhtml+xml,application/xml;q=0.9,image/webp,image/apng,*/*;exchange;v=b3',\n",
    "                   'Accept-Encoding': 'gzip, deflate, br',\n",
    "                   'Accept-Language': 'en-US,en;q=0.9',\n",
    "                   'Cache-Control': 'max-age=0',\n",
    "                   'Connection': 'close',\n",
    "                   'DNT': '1', # Do Not Track Request Header\n",
    "                   'Pragma': 'no-cache',\n",
    "                   'Referrer': 'https://google.com',\n",
    "                   'User-Agent': 'Mozilla/5.0 (Windows NT 10.0; Win64; x64) AppleWebKit/537.36(KHTML, like Gecko) Chrome/92.0.4515.107 Safari/537.36'\n",
    "                  }\n",
    "        # accessing html pages\n",
    "        summary_tab = BeautifulSoup(requests.get('https://finance.yahoo.com/quote/{}?p={}'.format(ticker,ticker),headers=headers).text,'html.parser')\n",
    "        summary_tab = BeautifulSoup(requests.get('https://finance.yahoo.com/quote/{}?p={}'.format(ticker,ticker),headers=headers).text,'html.parser')\n",
    "        profile_tab = BeautifulSoup(requests.get('https://finance.yahoo.com/quote/{}/profile?p={}'.format(ticker,ticker),headers=headers).text, 'html.parser')\n",
    "        risk_tab = BeautifulSoup(requests.get('https://finance.yahoo.com/quote/{}/risk?p={}'.format(ticker,ticker),headers=headers).text, 'html.parser')\n",
    "        holdings_tab = BeautifulSoup(requests.get('https://finance.yahoo.com/quote/{}/holdings?p={}'.format(ticker,ticker),headers=headers).text, 'html.parser')\n",
    "        performance_tab = BeautifulSoup(requests.get('https://finance.yahoo.com/quote/{}/performance?p={}'.format(ticker,ticker),headers=headers).text, 'html.parser')\n",
    "        # defining start time\n",
    "        start = time.time()\n",
    "        # accessing attribute values\n",
    "        #summary tab\n",
    "        yield ticker,{'mf_name':summary_tab.find_all('h1')[0].text}\n",
    "        # profile tab - fund overview section\n",
    "        yield ticker,{'category':profile_tab.find_all('div',\"Mb(25px)\")[0].find_all('div',\"Bdbw(1px) Bdbc($seperatorColor) Bdbs(s) H(25px) Pt(10px)\")[0].find_all('span')[-1].text}\n",
    "        yield ticker,{'fund_family':profile_tab.find_all('div',\"Mb(25px)\")[0].find_all('div',\"Bdbw(1px) Bdbc($seperatorColor) Bdbs(s) H(25px) Pt(10px)\")[1].find_all('span')[-1].text}\n",
    "        yield ticker,{'net_assets':profile_tab.find_all('div',\"Mb(25px)\")[0].find_all('div',\"Bdbw(1px) Bdbc($seperatorColor) Bdbs(s) H(25px) Pt(10px)\")[2].find_all('span')[-1].text}\n",
    "        yield ticker,{'yield_income':profile_tab.find_all('div',\"Mb(25px)\")[0].find_all('div',\"Bdbw(1px) Bdbc($seperatorColor) Bdbs(s) H(25px) Pt(10px)\")[4].find_all('span')[-1].text}\n",
    "        yield ticker,{'morningstar_rating':profile_tab.find_all('div',\"Mb(25px)\")[0].find_all('div',\"Bdbw(1px) Bdbc($seperatorColor) Bdbs(s) H(25px) Pt(10px)\")[5].find_all('span')[-1].text}\n",
    "        yield ticker,{'inception_date':profile_tab.find_all('div',\"Mb(25px)\")[0].find_all('div',\"Bdbw(1px) Bdbc($seperatorColor) Bdbs(s) H(25px) Pt(10px)\")[6].find_all('span')[-1].text}\n",
    "        # profile tab - fund operations section\n",
    "        yield ticker,{'holdings_t/o':profile_tab.find_all('div',\"Mb(25px)\")[1].find_all('div',\"Bdbw(1px) Bdbc($seperatorColor) Bdbs(s) H(25px) Pt(10px)\")[2].find_all('span')[-1].text}\n",
    "        # profile tab - fees & expenses section\n",
    "        yield ticker,{'expense_ratio':profile_tab.find_all('div',\"Mb(25px)\")[2].find_all('div',\"Bdbw(1px) Bdbc($seperatorColor) Bdbs(s) H(25px) Pt(10px)\")[0].find_all('span')[-2].text}\n",
    "        # holdings tab - portfolio composition section\n",
    "        yield ticker,{'cash_%':holdings_tab.find_all('div',\"Mb(25px)\")[0].find_all('div',\"Bdbw(1px) Bdbc($seperatorColor) Bdbs(s) H(25px) Pt(10px)\")[0].find_all('span')[-1].text}\n",
    "        yield ticker,{'stocks_%':holdings_tab.find_all('div',\"Mb(25px)\")[0].find_all('div',\"Bdbw(1px) Bdbc($seperatorColor) Bdbs(s) H(25px) Pt(10px)\")[1].find_all('span')[-1].text}\n",
    "        yield ticker,{'bonds_%':holdings_tab.find_all('div',\"Mb(25px)\")[0].find_all('div',\"Bdbw(1px) Bdbc($seperatorColor) Bdbs(s) H(25px) Pt(10px)\")[2].find_all('span')[-1].text}\n",
    "        yield ticker,{'preferred_%':holdings_tab.find_all('div',\"Mb(25px)\")[0].find_all('div',\"Bdbw(1px) Bdbc($seperatorColor) Bdbs(s) H(25px) Pt(10px)\")[4].find_all('span')[-1].text}\n",
    "        yield ticker,{'convertible_%':holdings_tab.find_all('div',\"Mb(25px)\")[0].find_all('div',\"Bdbw(1px) Bdbc($seperatorColor) Bdbs(s) H(25px) Pt(10px)\")[5].find_all('span')[-1].text}\n",
    "        # holdings tab - sector weightings section\n",
    "        yield ticker,{'basic_materials_%':holdings_tab.find_all('div',\"Mb(25px)\")[1].find_all('div',\"Bdbw(1px) Bdbc($seperatorColor) Bdbs(s) H(25px) Pt(10px)\")[0].find_all('span')[-1].text}\n",
    "        yield ticker,{'consumer_cyclical_%':holdings_tab.find_all('div',\"Mb(25px)\")[1].find_all('div',\"Bdbw(1px) Bdbc($seperatorColor) Bdbs(s) H(25px) Pt(10px)\")[1].find_all('span')[-1].text}\n",
    "        yield ticker,{'financial_services_%':holdings_tab.find_all('div',\"Mb(25px)\")[1].find_all('div',\"Bdbw(1px) Bdbc($seperatorColor) Bdbs(s) H(25px) Pt(10px)\")[2].find_all('span')[-1].text}\n",
    "        yield ticker,{'real_estate_%':holdings_tab.find_all('div',\"Mb(25px)\")[1].find_all('div',\"Bdbw(1px) Bdbc($seperatorColor) Bdbs(s) H(25px) Pt(10px)\")[3].find_all('span')[-1].text}\n",
    "        yield ticker,{'consumer_defensive_%':holdings_tab.find_all('div',\"Mb(25px)\")[1].find_all('div',\"Bdbw(1px) Bdbc($seperatorColor) Bdbs(s) H(25px) Pt(10px)\")[4].find_all('span')[-1].text}\n",
    "        yield ticker,{'healthcare_%':holdings_tab.find_all('div',\"Mb(25px)\")[1].find_all('div',\"Bdbw(1px) Bdbc($seperatorColor) Bdbs(s) H(25px) Pt(10px)\")[5].find_all('span')[-1].text}\n",
    "        yield ticker,{'utilities_%':holdings_tab.find_all('div',\"Mb(25px)\")[1].find_all('div',\"Bdbw(1px) Bdbc($seperatorColor) Bdbs(s) H(25px) Pt(10px)\")[6].find_all('span')[-1].text}\n",
    "        yield ticker,{'communication_services_%':holdings_tab.find_all('div',\"Mb(25px)\")[1].find_all('div',\"Bdbw(1px) Bdbc($seperatorColor) Bdbs(s) H(25px) Pt(10px)\")[7].find_all('span')[-1].text}\n",
    "        yield ticker,{'energy_%':holdings_tab.find_all('div',\"Mb(25px)\")[1].find_all('div',\"Bdbw(1px) Bdbc($seperatorColor) Bdbs(s) H(25px) Pt(10px)\")[8].find_all('span')[-1].text}\n",
    "        yield ticker,{'industries_%':holdings_tab.find_all('div',\"Mb(25px)\")[1].find_all('div',\"Bdbw(1px) Bdbc($seperatorColor) Bdbs(s) H(25px) Pt(10px)\")[9].find_all('span')[-1].text}\n",
    "        yield ticker,{'technology_%':holdings_tab.find_all('div',\"Mb(25px)\")[1].find_all('div',\"Bdbw(1px) Bdbc($seperatorColor) Bdbs(s) H(25px) Pt(10px)\")[10].find_all('span')[-1].text}\n",
    "        # performance tab - trailing returns section\n",
    "        yield ticker,{'ytd':performance_tab.find_all('div',\"Mb(25px)\")[1].find_all('div',\"Bdbw(1px) Bdbc($seperatorColor) Bdbs(s) H(25px) Pt(10px)\")[0].find_all('span')[-2].text}\n",
    "        yield ticker,{'1_month':performance_tab.find_all('div',\"Mb(25px)\")[1].find_all('div',\"Bdbw(1px) Bdbc($seperatorColor) Bdbs(s) H(25px) Pt(10px)\")[1].find_all('span')[-2].text}\n",
    "        yield ticker,{'3_month':performance_tab.find_all('div',\"Mb(25px)\")[1].find_all('div',\"Bdbw(1px) Bdbc($seperatorColor) Bdbs(s) H(25px) Pt(10px)\")[2].find_all('span')[-2].text}\n",
    "        yield ticker,{'1_year':performance_tab.find_all('div',\"Mb(25px)\")[1].find_all('div',\"Bdbw(1px) Bdbc($seperatorColor) Bdbs(s) H(25px) Pt(10px)\")[3].find_all('span')[-2].text}\n",
    "        yield ticker,{'3_year':performance_tab.find_all('div',\"Mb(25px)\")[1].find_all('div',\"Bdbw(1px) Bdbc($seperatorColor) Bdbs(s) H(25px) Pt(10px)\")[4].find_all('span')[-2].text}\n",
    "        yield ticker,{'5_year':performance_tab.find_all('div',\"Mb(25px)\")[1].find_all('div',\"Bdbw(1px) Bdbc($seperatorColor) Bdbs(s) H(25px) Pt(10px)\")[5].find_all('span')[-2].text}\n",
    "        yield ticker,{'10_year':performance_tab.find_all('div',\"Mb(25px)\")[1].find_all('div',\"Bdbw(1px) Bdbc($seperatorColor) Bdbs(s) H(25px) Pt(10px)\")[6].find_all('span')[-2].text}\n",
    "        yield ticker,{'last_bull_market':performance_tab.find_all('div',\"Mb(25px)\")[1].find_all('div',\"Bdbw(1px) Bdbc($seperatorColor) Bdbs(s) H(25px) Pt(10px)\")[7].find_all('span')[-2].text}\n",
    "        yield ticker,{'last_bear_market':performance_tab.find_all('div',\"Mb(25px)\")[1].find_all('div',\"Bdbw(1px) Bdbc($seperatorColor) Bdbs(s) H(25px) Pt(10px)\")[8].find_all('span')[-2].text}\n",
    "        # performance tab - trailing returns section\n",
    "        annual_returns_hist = defaultdict(list)\n",
    "        year = 0\n",
    "        if len(performance_tab.find_all('div',\"Mb(25px)\")[2].find_all('div',\"Bdbw(1px) Bdbc($seperatorColor) Bdbs(s) H(25px) Pt(10px)\"))>0:\n",
    "            for i in range(len(performance_tab.find_all('div',\"Mb(25px)\")[2].find_all('div',\"Bdbw(1px) Bdbc($seperatorColor) Bdbs(s) H(25px) Pt(10px)\"))): \n",
    "                year = int(performance_tab.find_all('div',\"Mb(25px)\")[2].find_all('div',\"Bdbw(1px) Bdbc($seperatorColor) Bdbs(s) H(25px) Pt(10px)\")[i-1].find_all('span')[0].text)\n",
    "                val = performance_tab.find_all('div',\"Mb(25px)\")[2].find_all('div',\"Bdbw(1px) Bdbc($seperatorColor) Bdbs(s) H(25px) Pt(10px)\")[i-1].find_all('span')[-2].text\n",
    "                annual_returns_hist[year].append(val)\n",
    "        yield ticker,{'annual_returns_history':annual_returns_hist}\n",
    "        # risk tab - risk overview section\n",
    "        yield ticker,{'morningstar_risk_rating':risk_tab.find_all('div',\"Mb(25px)\")[0].find_all('div',\"Bdbw(1px) Bdbc($seperatorColor) Bdbs(s) H(25px) Pt(10px)\")[0].find_all('span')[-1].text}\n",
    "        yield ticker,{'number_of_years_up':risk_tab.find_all('div',\"Mb(25px)\")[0].find_all('div',\"Bdbw(1px) Bdbc($seperatorColor) Bdbs(s) H(25px) Pt(10px)\")[1].find_all('span')[-1].text}\n",
    "        yield ticker,{'number_of_years_down':risk_tab.find_all('div',\"Mb(25px)\")[0].find_all('div',\"Bdbw(1px) Bdbc($seperatorColor) Bdbs(s) H(25px) Pt(10px)\")[2].find_all('span')[-1].text}\n",
    "        # risk tab - risk statistics section\n",
    "        yield ticker,{'3_year_alpha':risk_tab.find_all('div',\"Mb(25px)\")[1].find_all('div',\"Bdbw(1px) Bdbc($seperatorColor) Bdbs(s) H(25px) Pt(10px)\")[0].find_all('span')[1].text}\n",
    "        yield ticker,{'5_year_alpha':risk_tab.find_all('div',\"Mb(25px)\")[1].find_all('div',\"Bdbw(1px) Bdbc($seperatorColor) Bdbs(s) H(25px) Pt(10px)\")[0].find_all('span')[4].text}\n",
    "        yield ticker,{'10_year_alpha':risk_tab.find_all('div',\"Mb(25px)\")[1].find_all('div',\"Bdbw(1px) Bdbc($seperatorColor) Bdbs(s) H(25px) Pt(10px)\")[0].find_all('span')[7].text}\n",
    "        yield ticker,{'3_year_BETA':risk_tab.find_all('div',\"Mb(25px)\")[1].find_all('div',\"Bdbw(1px) Bdbc($seperatorColor) Bdbs(s) H(25px) Pt(10px)\")[1].find_all('span')[1].text}\n",
    "        yield ticker,{'5_year_BETA':risk_tab.find_all('div',\"Mb(25px)\")[1].find_all('div',\"Bdbw(1px) Bdbc($seperatorColor) Bdbs(s) H(25px) Pt(10px)\")[1].find_all('span')[4].text}\n",
    "        yield ticker,{'10_year_BETA':risk_tab.find_all('div',\"Mb(25px)\")[1].find_all('div',\"Bdbw(1px) Bdbc($seperatorColor) Bdbs(s) H(25px) Pt(10px)\")[1].find_all('span')[7].text}\n",
    "        yield ticker,{'3_year_mean_annual_return':risk_tab.find_all('div',\"Mb(25px)\")[1].find_all('div',\"Bdbw(1px) Bdbc($seperatorColor) Bdbs(s) H(25px) Pt(10px)\")[2].find_all('span')[1].text}\n",
    "        yield ticker,{'5_year_mean_annual_return':risk_tab.find_all('div',\"Mb(25px)\")[1].find_all('div',\"Bdbw(1px) Bdbc($seperatorColor) Bdbs(s) H(25px) Pt(10px)\")[2].find_all('span')[4].text}\n",
    "        yield ticker,{'10_year_mean_annual_return':risk_tab.find_all('div',\"Mb(25px)\")[1].find_all('div',\"Bdbw(1px) Bdbc($seperatorColor) Bdbs(s) H(25px) Pt(10px)\")[2].find_all('span')[7].text}\n",
    "        yield ticker,{'3_year_r-squared':risk_tab.find_all('div',\"Mb(25px)\")[1].find_all('div',\"Bdbw(1px) Bdbc($seperatorColor) Bdbs(s) H(25px) Pt(10px)\")[3].find_all('span')[1].text}\n",
    "        yield ticker,{'5_year_r-squared':risk_tab.find_all('div',\"Mb(25px)\")[1].find_all('div',\"Bdbw(1px) Bdbc($seperatorColor) Bdbs(s) H(25px) Pt(10px)\")[3].find_all('span')[4].text}\n",
    "        yield ticker,{'10_year_r-squared':risk_tab.find_all('div',\"Mb(25px)\")[1].find_all('div',\"Bdbw(1px) Bdbc($seperatorColor) Bdbs(s) H(25px) Pt(10px)\")[3].find_all('span')[7].text}\n",
    "        yield ticker,{'3_year_std_deviation':risk_tab.find_all('div',\"Mb(25px)\")[1].find_all('div',\"Bdbw(1px) Bdbc($seperatorColor) Bdbs(s) H(25px) Pt(10px)\")[4].find_all('span')[1].text}\n",
    "        yield ticker,{'5_year_std_deviation':risk_tab.find_all('div',\"Mb(25px)\")[1].find_all('div',\"Bdbw(1px) Bdbc($seperatorColor) Bdbs(s) H(25px) Pt(10px)\")[4].find_all('span')[4].text}\n",
    "        yield ticker,{'10_year_std_deviation':risk_tab.find_all('div',\"Mb(25px)\")[1].find_all('div',\"Bdbw(1px) Bdbc($seperatorColor) Bdbs(s) H(25px) Pt(10px)\")[4].find_all('span')[7].text}\n",
    "        yield ticker,{'3_year_sharpe_ratio':risk_tab.find_all('div',\"Mb(25px)\")[1].find_all('div',\"Bdbw(1px) Bdbc($seperatorColor) Bdbs(s) H(25px) Pt(10px)\")[5].find_all('span')[1].text}\n",
    "        yield ticker,{'5_year_sharpe_ratio':risk_tab.find_all('div',\"Mb(25px)\")[1].find_all('div',\"Bdbw(1px) Bdbc($seperatorColor) Bdbs(s) H(25px) Pt(10px)\")[5].find_all('span')[4].text}\n",
    "        yield ticker,{'10_year_sharpe_ratio':risk_tab.find_all('div',\"Mb(25px)\")[1].find_all('div',\"Bdbw(1px) Bdbc($seperatorColor) Bdbs(s) H(25px) Pt(10px)\")[5].find_all('span')[7].text}\n",
    "        yield ticker,{'3_year_treynor_ratio':risk_tab.find_all('div',\"Mb(25px)\")[1].find_all('div',\"Bdbw(1px) Bdbc($seperatorColor) Bdbs(s) H(25px) Pt(10px)\")[6].find_all('span')[1].text}\n",
    "        yield ticker,{'5_year_treynor_ratio':risk_tab.find_all('div',\"Mb(25px)\")[1].find_all('div',\"Bdbw(1px) Bdbc($seperatorColor) Bdbs(s) H(25px) Pt(10px)\")[6].find_all('span')[4].text}\n",
    "        yield ticker,{'10_year_treynor_ratio':risk_tab.find_all('div',\"Mb(25px)\")[1].find_all('div',\"Bdbw(1px) Bdbc($seperatorColor) Bdbs(s) H(25px) Pt(10px)\")[6].find_all('span')[7].text}\n",
    "        yield ticker,{'time':time.time()-start}\n",
    "    def steps(self):\n",
    "        return [\n",
    "            MRStep(mapper=self.mapper_read_ticker),\n",
    "            MRStep(mapper=self.mapper_2)\n",
    "        ]\n",
    "\n",
    "if __name__ == \"__main__\":\n",
    "    MRMutualFundDataScraper.run()"
   ]
  },
  {
   "cell_type": "code",
   "execution_count": null,
   "id": "2160b79a",
   "metadata": {},
   "outputs": [],
   "source": []
  },
  {
   "cell_type": "markdown",
   "id": "0646104b",
   "metadata": {},
   "source": [
    "# Running mapreduce job"
   ]
  },
  {
   "cell_type": "code",
   "execution_count": 154,
   "id": "2fab0480",
   "metadata": {},
   "outputs": [
    {
     "name": "stdout",
     "output_type": "stream",
     "text": [
      "No configs found; falling back on auto-configuration\n",
      "No configs specified for local runner\n",
      "Creating temp directory /var/folders/jc/hcdncf153dddzghwy087kzww0000gn/T/mf_data_scraper.celinegeorgethokalath.20230225.094357.729473\n",
      "Running step 1 of 2...\n",
      "reading from STDIN\n",
      "Running step 2 of 2...\n",
      "job output is in /var/folders/jc/hcdncf153dddzghwy087kzww0000gn/T/mf_data_scraper.celinegeorgethokalath.20230225.094357.729473/output\n",
      "Streaming final output from /var/folders/jc/hcdncf153dddzghwy087kzww0000gn/T/mf_data_scraper.celinegeorgethokalath.20230225.094357.729473/output...\n",
      "Removing temp directory /var/folders/jc/hcdncf153dddzghwy087kzww0000gn/T/mf_data_scraper.celinegeorgethokalath.20230225.094357.729473...\n"
     ]
    }
   ],
   "source": [
    "! python mf_data_scraper.py -r local --jobconf mapreduce.job.maps=5 <test_in_out/MF_tickers_1to10.txt >test_in_out/MF_data_v8.txt"
   ]
  },
  {
   "cell_type": "code",
   "execution_count": null,
   "id": "827755dc",
   "metadata": {},
   "outputs": [],
   "source": []
  },
  {
   "cell_type": "markdown",
   "id": "48ade7f2",
   "metadata": {},
   "source": [
    "# testing / decoding / debugging section"
   ]
  },
  {
   "cell_type": "code",
   "execution_count": 76,
   "id": "14b0e6d3",
   "metadata": {},
   "outputs": [],
   "source": [
    "ticker=mf_tickers[0]\n",
    "summary_tab = BeautifulSoup(requests.get('https://finance.yahoo.com/quote/{}?p={}'.format(ticker,ticker),headers=headers).text,'html.parser')\n",
    "profile_tab = BeautifulSoup(requests.get('https://finance.yahoo.com/quote/{}/profile?p={}'.format(ticker,ticker),headers=headers).text, 'html.parser')\n",
    "risk_tab = BeautifulSoup(requests.get('https://finance.yahoo.com/quote/{}/risk?p={}'.format(ticker,ticker),headers=headers).text, 'html.parser')\n",
    "holdings_tab = BeautifulSoup(requests.get('https://finance.yahoo.com/quote/{}/holdings?p={}'.format(ticker,ticker),headers=headers).text, 'html.parser')\n",
    "performance_tab = BeautifulSoup(requests.get('https://finance.yahoo.com/quote/{}/performance?p={}'.format(ticker,ticker),headers=headers).text, 'html.parser')"
   ]
  },
  {
   "cell_type": "code",
   "execution_count": 77,
   "id": "a98b7bb6",
   "metadata": {},
   "outputs": [
    {
     "data": {
      "text/plain": [
       "'Lord Abbett Growth Leaders Fund (LGLRX)'"
      ]
     },
     "execution_count": 77,
     "metadata": {},
     "output_type": "execute_result"
    }
   ],
   "source": [
    "summary_tab.find_all('h1')[0].text"
   ]
  },
  {
   "cell_type": "markdown",
   "id": "dba3b2e5",
   "metadata": {},
   "source": [
    "### Profile tab: Fund Overview section - 6 attributes (all except attribute with index value [3]"
   ]
  },
  {
   "cell_type": "code",
   "execution_count": 18,
   "id": "678b5449",
   "metadata": {},
   "outputs": [
    {
     "data": {
      "text/plain": [
       "'World Allocation'"
      ]
     },
     "execution_count": 18,
     "metadata": {},
     "output_type": "execute_result"
    }
   ],
   "source": [
    "# category\n",
    "profile_tab.find_all('div',\"Mb(25px)\")[0].find_all('div',\"Bdbw(1px) Bdbc($seperatorColor) Bdbs(s) H(25px) Pt(10px)\")[0].find_all('span')[-1].text"
   ]
  },
  {
   "cell_type": "code",
   "execution_count": 78,
   "id": "db73d924",
   "metadata": {},
   "outputs": [
    {
     "data": {
      "text/plain": [
       "'Lord Abbett'"
      ]
     },
     "execution_count": 78,
     "metadata": {},
     "output_type": "execute_result"
    }
   ],
   "source": [
    "# Fund Family\n",
    "profile_tab.find_all('div',\"Mb(25px)\")[0].find_all('div',\"Bdbw(1px) Bdbc($seperatorColor) Bdbs(s) H(25px) Pt(10px)\")[1].find_all('span')[-1].text"
   ]
  },
  {
   "cell_type": "code",
   "execution_count": 79,
   "id": "753584d3",
   "metadata": {},
   "outputs": [
    {
     "data": {
      "text/plain": [
       "'5.77B'"
      ]
     },
     "execution_count": 79,
     "metadata": {},
     "output_type": "execute_result"
    }
   ],
   "source": [
    "# Net Assets\n",
    "profile_tab.find_all('div',\"Mb(25px)\")[0].find_all('div',\"Bdbw(1px) Bdbc($seperatorColor) Bdbs(s) H(25px) Pt(10px)\")[2].find_all('span')[-1].text"
   ]
  },
  {
   "cell_type": "code",
   "execution_count": 80,
   "id": "a50dcf5b",
   "metadata": {},
   "outputs": [
    {
     "data": {
      "text/plain": [
       "'0.00%'"
      ]
     },
     "execution_count": 80,
     "metadata": {},
     "output_type": "execute_result"
    }
   ],
   "source": [
    "# (income) Yield\n",
    "profile_tab.find_all('div',\"Mb(25px)\")[0].find_all('div',\"Bdbw(1px) Bdbc($seperatorColor) Bdbs(s) H(25px) Pt(10px)\")[4].find_all('span')[-1].text"
   ]
  },
  {
   "cell_type": "code",
   "execution_count": 81,
   "id": "cf846cab",
   "metadata": {},
   "outputs": [
    {
     "data": {
      "text/plain": [
       "'★★★★'"
      ]
     },
     "execution_count": 81,
     "metadata": {},
     "output_type": "execute_result"
    }
   ],
   "source": [
    "# Morningstar Rating\n",
    "profile_tab.find_all('div',\"Mb(25px)\")[0].find_all('div',\"Bdbw(1px) Bdbc($seperatorColor) Bdbs(s) H(25px) Pt(10px)\")[5].find_all('span')[-1].text"
   ]
  },
  {
   "cell_type": "code",
   "execution_count": 82,
   "id": "82341f48",
   "metadata": {},
   "outputs": [
    {
     "data": {
      "text/plain": [
       "'Jun 29, 2011'"
      ]
     },
     "execution_count": 82,
     "metadata": {},
     "output_type": "execute_result"
    }
   ],
   "source": [
    "# Inception Date\n",
    "profile_tab.find_all('div',\"Mb(25px)\")[0].find_all('div',\"Bdbw(1px) Bdbc($seperatorColor) Bdbs(s) H(25px) Pt(10px)\")[6].find_all('span')[-1].text"
   ]
  },
  {
   "cell_type": "markdown",
   "id": "9dc3a5e8",
   "metadata": {},
   "source": [
    "### Profile Tab: Fund Operations section - attribute with index [2]"
   ]
  },
  {
   "cell_type": "code",
   "execution_count": 83,
   "id": "fc673bd0",
   "metadata": {},
   "outputs": [
    {
     "data": {
      "text/plain": [
       "'93.00%'"
      ]
     },
     "execution_count": 83,
     "metadata": {},
     "output_type": "execute_result"
    }
   ],
   "source": [
    "# Holdings Turnover\n",
    "profile_tab.find_all('div',\"Mb(25px)\")[1].find_all('div',\"Bdbw(1px) Bdbc($seperatorColor) Bdbs(s) H(25px) Pt(10px)\")[2].find_all('span')[-1].text"
   ]
  },
  {
   "cell_type": "markdown",
   "id": "5506d4a7",
   "metadata": {},
   "source": [
    "### Profile tab: Fess & Expenses section - attribute with index [0]"
   ]
  },
  {
   "cell_type": "code",
   "execution_count": 84,
   "id": "d67a16b3",
   "metadata": {},
   "outputs": [
    {
     "data": {
      "text/plain": [
       "'0.64%'"
      ]
     },
     "execution_count": 84,
     "metadata": {},
     "output_type": "execute_result"
    }
   ],
   "source": [
    "# Annual Report Expense atio (net)\n",
    "profile_tab.find_all('div',\"Mb(25px)\")[2].find_all('div',\"Bdbw(1px) Bdbc($seperatorColor) Bdbs(s) H(25px) Pt(10px)\")[0].find_all('span')[-2].text"
   ]
  },
  {
   "cell_type": "markdown",
   "id": "505e9576",
   "metadata": {},
   "source": [
    "### Holdings tab: Portfolio composition % : 5 attributes (all except attribute with index value [3])"
   ]
  },
  {
   "cell_type": "code",
   "execution_count": 85,
   "id": "e3e880ae",
   "metadata": {},
   "outputs": [
    {
     "data": {
      "text/plain": [
       "'0.00%'"
      ]
     },
     "execution_count": 85,
     "metadata": {},
     "output_type": "execute_result"
    }
   ],
   "source": [
    "# cash %\n",
    "holdings_tab.find_all('div',\"Mb(25px)\")[0].find_all('div',\"Bdbw(1px) Bdbc($seperatorColor) Bdbs(s) H(25px) Pt(10px)\")[0].find_all('span')[-1].text"
   ]
  },
  {
   "cell_type": "code",
   "execution_count": 86,
   "id": "f785f904",
   "metadata": {},
   "outputs": [
    {
     "data": {
      "text/plain": [
       "'100.00%'"
      ]
     },
     "execution_count": 86,
     "metadata": {},
     "output_type": "execute_result"
    }
   ],
   "source": [
    "# stocks %\n",
    "holdings_tab.find_all('div',\"Mb(25px)\")[0].find_all('div',\"Bdbw(1px) Bdbc($seperatorColor) Bdbs(s) H(25px) Pt(10px)\")[1].find_all('span')[-1].text"
   ]
  },
  {
   "cell_type": "code",
   "execution_count": 87,
   "id": "a06d2a3a",
   "metadata": {},
   "outputs": [
    {
     "data": {
      "text/plain": [
       "'0.00%'"
      ]
     },
     "execution_count": 87,
     "metadata": {},
     "output_type": "execute_result"
    }
   ],
   "source": [
    "# Bonds %\n",
    "holdings_tab.find_all('div',\"Mb(25px)\")[0].find_all('div',\"Bdbw(1px) Bdbc($seperatorColor) Bdbs(s) H(25px) Pt(10px)\")[2].find_all('span')[-1].text"
   ]
  },
  {
   "cell_type": "code",
   "execution_count": 88,
   "id": "f3df35de",
   "metadata": {},
   "outputs": [
    {
     "data": {
      "text/plain": [
       "'0.00%'"
      ]
     },
     "execution_count": 88,
     "metadata": {},
     "output_type": "execute_result"
    }
   ],
   "source": [
    "# Preferred %\n",
    "holdings_tab.find_all('div',\"Mb(25px)\")[0].find_all('div',\"Bdbw(1px) Bdbc($seperatorColor) Bdbs(s) H(25px) Pt(10px)\")[4].find_all('span')[-1].text"
   ]
  },
  {
   "cell_type": "code",
   "execution_count": 89,
   "id": "db86300b",
   "metadata": {},
   "outputs": [
    {
     "data": {
      "text/plain": [
       "'0.00%'"
      ]
     },
     "execution_count": 89,
     "metadata": {},
     "output_type": "execute_result"
    }
   ],
   "source": [
    "# Convertible %\n",
    "holdings_tab.find_all('div',\"Mb(25px)\")[0].find_all('div',\"Bdbw(1px) Bdbc($seperatorColor) Bdbs(s) H(25px) Pt(10px)\")[5].find_all('span')[-1].text"
   ]
  },
  {
   "cell_type": "markdown",
   "id": "8b48c06c",
   "metadata": {},
   "source": [
    "### Holdings tab: Sector Weightings % : all 11 attributes"
   ]
  },
  {
   "cell_type": "code",
   "execution_count": 90,
   "id": "575ac2f3",
   "metadata": {},
   "outputs": [
    {
     "data": {
      "text/plain": [
       "'0.00%'"
      ]
     },
     "execution_count": 90,
     "metadata": {},
     "output_type": "execute_result"
    }
   ],
   "source": [
    "# Basic Materials %\n",
    "holdings_tab.find_all('div',\"Mb(25px)\")[1].find_all('div',\"Bdbw(1px) Bdbc($seperatorColor) Bdbs(s) H(25px) Pt(10px)\")[0].find_all('span')[-1].text"
   ]
  },
  {
   "cell_type": "code",
   "execution_count": 91,
   "id": "7a4b5b4a",
   "metadata": {},
   "outputs": [
    {
     "data": {
      "text/plain": [
       "'16.53%'"
      ]
     },
     "execution_count": 91,
     "metadata": {},
     "output_type": "execute_result"
    }
   ],
   "source": [
    "# Consumer Cyclical %\n",
    "holdings_tab.find_all('div',\"Mb(25px)\")[1].find_all('div',\"Bdbw(1px) Bdbc($seperatorColor) Bdbs(s) H(25px) Pt(10px)\")[1].find_all('span')[-1].text"
   ]
  },
  {
   "cell_type": "code",
   "execution_count": 92,
   "id": "ca11b4a5",
   "metadata": {},
   "outputs": [
    {
     "data": {
      "text/plain": [
       "'5.95%'"
      ]
     },
     "execution_count": 92,
     "metadata": {},
     "output_type": "execute_result"
    }
   ],
   "source": [
    "# Financial Services %\n",
    "holdings_tab.find_all('div',\"Mb(25px)\")[1].find_all('div',\"Bdbw(1px) Bdbc($seperatorColor) Bdbs(s) H(25px) Pt(10px)\")[2].find_all('span')[-1].text"
   ]
  },
  {
   "cell_type": "code",
   "execution_count": 93,
   "id": "d24ca2d8",
   "metadata": {},
   "outputs": [
    {
     "data": {
      "text/plain": [
       "'1.10%'"
      ]
     },
     "execution_count": 93,
     "metadata": {},
     "output_type": "execute_result"
    }
   ],
   "source": [
    "# Real Estate %\n",
    "holdings_tab.find_all('div',\"Mb(25px)\")[1].find_all('div',\"Bdbw(1px) Bdbc($seperatorColor) Bdbs(s) H(25px) Pt(10px)\")[3].find_all('span')[-1].text"
   ]
  },
  {
   "cell_type": "code",
   "execution_count": 94,
   "id": "732bd1f1",
   "metadata": {},
   "outputs": [
    {
     "data": {
      "text/plain": [
       "'0.00%'"
      ]
     },
     "execution_count": 94,
     "metadata": {},
     "output_type": "execute_result"
    }
   ],
   "source": [
    "# Consumer Defensive %\n",
    "holdings_tab.find_all('div',\"Mb(25px)\")[1].find_all('div',\"Bdbw(1px) Bdbc($seperatorColor) Bdbs(s) H(25px) Pt(10px)\")[4].find_all('span')[-1].text"
   ]
  },
  {
   "cell_type": "code",
   "execution_count": 95,
   "id": "7beb5904",
   "metadata": {},
   "outputs": [
    {
     "data": {
      "text/plain": [
       "'21.00%'"
      ]
     },
     "execution_count": 95,
     "metadata": {},
     "output_type": "execute_result"
    }
   ],
   "source": [
    "# Healthcare %\n",
    "holdings_tab.find_all('div',\"Mb(25px)\")[1].find_all('div',\"Bdbw(1px) Bdbc($seperatorColor) Bdbs(s) H(25px) Pt(10px)\")[5].find_all('span')[-1].text"
   ]
  },
  {
   "cell_type": "code",
   "execution_count": 96,
   "id": "32983d87",
   "metadata": {},
   "outputs": [
    {
     "data": {
      "text/plain": [
       "'0.00%'"
      ]
     },
     "execution_count": 96,
     "metadata": {},
     "output_type": "execute_result"
    }
   ],
   "source": [
    "# Utilities %\n",
    "holdings_tab.find_all('div',\"Mb(25px)\")[1].find_all('div',\"Bdbw(1px) Bdbc($seperatorColor) Bdbs(s) H(25px) Pt(10px)\")[6].find_all('span')[-1].text"
   ]
  },
  {
   "cell_type": "code",
   "execution_count": 97,
   "id": "c3c2d262",
   "metadata": {},
   "outputs": [
    {
     "data": {
      "text/plain": [
       "'5.37%'"
      ]
     },
     "execution_count": 97,
     "metadata": {},
     "output_type": "execute_result"
    }
   ],
   "source": [
    "# Communication Services\n",
    "holdings_tab.find_all('div',\"Mb(25px)\")[1].find_all('div',\"Bdbw(1px) Bdbc($seperatorColor) Bdbs(s) H(25px) Pt(10px)\")[7].find_all('span')[-1].text"
   ]
  },
  {
   "cell_type": "code",
   "execution_count": 98,
   "id": "98b005cf",
   "metadata": {},
   "outputs": [
    {
     "data": {
      "text/plain": [
       "'0.50%'"
      ]
     },
     "execution_count": 98,
     "metadata": {},
     "output_type": "execute_result"
    }
   ],
   "source": [
    "# Energy %\n",
    "holdings_tab.find_all('div',\"Mb(25px)\")[1].find_all('div',\"Bdbw(1px) Bdbc($seperatorColor) Bdbs(s) H(25px) Pt(10px)\")[8].find_all('span')[-1].text"
   ]
  },
  {
   "cell_type": "code",
   "execution_count": 99,
   "id": "842affea",
   "metadata": {},
   "outputs": [
    {
     "data": {
      "text/plain": [
       "'9.11%'"
      ]
     },
     "execution_count": 99,
     "metadata": {},
     "output_type": "execute_result"
    }
   ],
   "source": [
    "# Industries %\n",
    "holdings_tab.find_all('div',\"Mb(25px)\")[1].find_all('div',\"Bdbw(1px) Bdbc($seperatorColor) Bdbs(s) H(25px) Pt(10px)\")[9].find_all('span')[-1].text"
   ]
  },
  {
   "cell_type": "code",
   "execution_count": 100,
   "id": "ed8648d5",
   "metadata": {},
   "outputs": [
    {
     "data": {
      "text/plain": [
       "'40.43%'"
      ]
     },
     "execution_count": 100,
     "metadata": {},
     "output_type": "execute_result"
    }
   ],
   "source": [
    "# Technology %\n",
    "holdings_tab.find_all('div',\"Mb(25px)\")[1].find_all('div',\"Bdbw(1px) Bdbc($seperatorColor) Bdbs(s) H(25px) Pt(10px)\")[10].find_all('span')[-1].text"
   ]
  },
  {
   "cell_type": "markdown",
   "id": "43594465",
   "metadata": {},
   "source": [
    "### Performanca tab: Trailing Returns - 9 attributes"
   ]
  },
  {
   "cell_type": "code",
   "execution_count": 101,
   "id": "4032de83",
   "metadata": {},
   "outputs": [
    {
     "data": {
      "text/plain": [
       "'7.60%'"
      ]
     },
     "execution_count": 101,
     "metadata": {},
     "output_type": "execute_result"
    }
   ],
   "source": [
    "# YTD\n",
    "performance_tab.find_all('div',\"Mb(25px)\")[1].find_all('div',\"Bdbw(1px) Bdbc($seperatorColor) Bdbs(s) H(25px) Pt(10px)\")[0].find_all('span')[-2].text"
   ]
  },
  {
   "cell_type": "code",
   "execution_count": 102,
   "id": "f416e471",
   "metadata": {},
   "outputs": [
    {
     "data": {
      "text/plain": [
       "'7.73%'"
      ]
     },
     "execution_count": 102,
     "metadata": {},
     "output_type": "execute_result"
    }
   ],
   "source": [
    "# 1-Month\n",
    "performance_tab.find_all('div',\"Mb(25px)\")[1].find_all('div',\"Bdbw(1px) Bdbc($seperatorColor) Bdbs(s) H(25px) Pt(10px)\")[1].find_all('span')[-2].text"
   ]
  },
  {
   "cell_type": "code",
   "execution_count": 103,
   "id": "affe9da1",
   "metadata": {},
   "outputs": [
    {
     "data": {
      "text/plain": [
       "'6.21%'"
      ]
     },
     "execution_count": 103,
     "metadata": {},
     "output_type": "execute_result"
    }
   ],
   "source": [
    "# 3-Month\n",
    "performance_tab.find_all('div',\"Mb(25px)\")[1].find_all('div',\"Bdbw(1px) Bdbc($seperatorColor) Bdbs(s) H(25px) Pt(10px)\")[2].find_all('span')[-2].text"
   ]
  },
  {
   "cell_type": "code",
   "execution_count": 104,
   "id": "8a3a9455",
   "metadata": {},
   "outputs": [
    {
     "data": {
      "text/plain": [
       "'-25.38%'"
      ]
     },
     "execution_count": 104,
     "metadata": {},
     "output_type": "execute_result"
    }
   ],
   "source": [
    "# 1-Year\n",
    "performance_tab.find_all('div',\"Mb(25px)\")[1].find_all('div',\"Bdbw(1px) Bdbc($seperatorColor) Bdbs(s) H(25px) Pt(10px)\")[3].find_all('span')[-2].text"
   ]
  },
  {
   "cell_type": "code",
   "execution_count": 105,
   "id": "ace4acae",
   "metadata": {},
   "outputs": [
    {
     "data": {
      "text/plain": [
       "'5.28%'"
      ]
     },
     "execution_count": 105,
     "metadata": {},
     "output_type": "execute_result"
    }
   ],
   "source": [
    "# 3-Year\n",
    "performance_tab.find_all('div',\"Mb(25px)\")[1].find_all('div',\"Bdbw(1px) Bdbc($seperatorColor) Bdbs(s) H(25px) Pt(10px)\")[4].find_all('span')[-2].text"
   ]
  },
  {
   "cell_type": "code",
   "execution_count": 106,
   "id": "3120d720",
   "metadata": {},
   "outputs": [
    {
     "data": {
      "text/plain": [
       "'13.13%'"
      ]
     },
     "execution_count": 106,
     "metadata": {},
     "output_type": "execute_result"
    }
   ],
   "source": [
    "# 5-Year\n",
    "performance_tab.find_all('div',\"Mb(25px)\")[1].find_all('div',\"Bdbw(1px) Bdbc($seperatorColor) Bdbs(s) H(25px) Pt(10px)\")[5].find_all('span')[-2].text"
   ]
  },
  {
   "cell_type": "code",
   "execution_count": 107,
   "id": "71b6c47c",
   "metadata": {},
   "outputs": [
    {
     "data": {
      "text/plain": [
       "'13.38%'"
      ]
     },
     "execution_count": 107,
     "metadata": {},
     "output_type": "execute_result"
    }
   ],
   "source": [
    "# 10-Year\n",
    "performance_tab.find_all('div',\"Mb(25px)\")[1].find_all('div',\"Bdbw(1px) Bdbc($seperatorColor) Bdbs(s) H(25px) Pt(10px)\")[6].find_all('span')[-2].text"
   ]
  },
  {
   "cell_type": "code",
   "execution_count": 108,
   "id": "dc480117",
   "metadata": {},
   "outputs": [
    {
     "data": {
      "text/plain": [
       "'23.30%'"
      ]
     },
     "execution_count": 108,
     "metadata": {},
     "output_type": "execute_result"
    }
   ],
   "source": [
    "# Last Bull Market\n",
    "performance_tab.find_all('div',\"Mb(25px)\")[1].find_all('div',\"Bdbw(1px) Bdbc($seperatorColor) Bdbs(s) H(25px) Pt(10px)\")[7].find_all('span')[-2].text"
   ]
  },
  {
   "cell_type": "code",
   "execution_count": 109,
   "id": "78784d1b",
   "metadata": {},
   "outputs": [
    {
     "data": {
      "text/plain": [
       "'-15.04%'"
      ]
     },
     "execution_count": 109,
     "metadata": {},
     "output_type": "execute_result"
    }
   ],
   "source": [
    "# Last Bear Market\n",
    "performance_tab.find_all('div',\"Mb(25px)\")[1].find_all('div',\"Bdbw(1px) Bdbc($seperatorColor) Bdbs(s) H(25px) Pt(10px)\")[8].find_all('span')[-2].text"
   ]
  },
  {
   "cell_type": "markdown",
   "id": "2d384463",
   "metadata": {},
   "source": [
    "### Performance tab: Annual Total Returns History section - Values for each of the years starting 2001 till 2020, if available"
   ]
  },
  {
   "cell_type": "code",
   "execution_count": 114,
   "id": "474f3849",
   "metadata": {},
   "outputs": [
    {
     "data": {
      "text/plain": [
       "11"
      ]
     },
     "execution_count": 114,
     "metadata": {},
     "output_type": "execute_result"
    }
   ],
   "source": [
    "len(performance_tab.find_all('div',\"Mb(25px)\")[2].find_all('div',\"Bdbw(1px) Bdbc($seperatorColor) Bdbs(s) H(25px) Pt(10px)\"))"
   ]
  },
  {
   "cell_type": "code",
   "execution_count": 121,
   "id": "6e0810ce",
   "metadata": {},
   "outputs": [
    {
     "data": {
      "text/plain": [
       "'2011'"
      ]
     },
     "execution_count": 121,
     "metadata": {},
     "output_type": "execute_result"
    }
   ],
   "source": [
    "performance_tab.find_all('div',\"Mb(25px)\")[2].find_all('div',\"Bdbw(1px) Bdbc($seperatorColor) Bdbs(s) H(25px) Pt(10px)\")[11-1].find_all('span')[0].text"
   ]
  },
  {
   "cell_type": "code",
   "execution_count": 120,
   "id": "7ac1ca70",
   "metadata": {},
   "outputs": [
    {
     "data": {
      "text/plain": [
       "'N/A'"
      ]
     },
     "execution_count": 120,
     "metadata": {},
     "output_type": "execute_result"
    }
   ],
   "source": [
    "performance_tab.find_all('div',\"Mb(25px)\")[2].find_all('div',\"Bdbw(1px) Bdbc($seperatorColor) Bdbs(s) H(25px) Pt(10px)\")[11-1].find_all('span')[-2].text"
   ]
  },
  {
   "cell_type": "code",
   "execution_count": 124,
   "id": "70b2ad0e",
   "metadata": {},
   "outputs": [],
   "source": [
    "annual_returns_hist = defaultdict(list)\n",
    "year = 0\n",
    "if len(performance_tab.find_all('div',\"Mb(25px)\")[2].find_all('div',\"Bdbw(1px) Bdbc($seperatorColor) Bdbs(s) H(25px) Pt(10px)\"))>0:\n",
    "    for i in range(len(performance_tab.find_all('div',\"Mb(25px)\")[2].find_all('div',\"Bdbw(1px) Bdbc($seperatorColor) Bdbs(s) H(25px) Pt(10px)\"))): \n",
    "        year = int(performance_tab.find_all('div',\"Mb(25px)\")[2].find_all('div',\"Bdbw(1px) Bdbc($seperatorColor) Bdbs(s) H(25px) Pt(10px)\")[i-1].find_all('span')[0].text)\n",
    "        val = performance_tab.find_all('div',\"Mb(25px)\")[2].find_all('div',\"Bdbw(1px) Bdbc($seperatorColor) Bdbs(s) H(25px) Pt(10px)\")[i-1].find_all('span')[-2].text\n",
    "        annual_returns_hist[year].append(val)"
   ]
  },
  {
   "cell_type": "code",
   "execution_count": 125,
   "id": "9c0353c7",
   "metadata": {},
   "outputs": [
    {
     "data": {
      "text/plain": [
       "defaultdict(list,\n",
       "            {2011: ['N/A'],\n",
       "             2021: ['N/A'],\n",
       "             2020: ['76.57%'],\n",
       "             2019: ['34.37%'],\n",
       "             2018: ['-1.18%'],\n",
       "             2017: ['30.91%'],\n",
       "             2016: ['0.31%'],\n",
       "             2015: ['6.38%'],\n",
       "             2014: ['9.89%'],\n",
       "             2013: ['46.44%'],\n",
       "             2012: ['10.10%']})"
      ]
     },
     "execution_count": 125,
     "metadata": {},
     "output_type": "execute_result"
    }
   ],
   "source": [
    "annual_returns_hist"
   ]
  },
  {
   "cell_type": "markdown",
   "id": "f8a064b5",
   "metadata": {},
   "source": [
    "### Risk tab: Risk Overview section - 3 attributes"
   ]
  },
  {
   "cell_type": "code",
   "execution_count": null,
   "id": "ce85469c",
   "metadata": {},
   "outputs": [],
   "source": [
    "# Morningstar Risk Rating\n",
    "risk_tab.find_all('div',\"Mb(25px)\")[0].find_all('div',\"Bdbw(1px) Bdbc($seperatorColor) Bdbs(s) H(25px) Pt(10px)\")[0].find_all('span')[-1].text"
   ]
  },
  {
   "cell_type": "code",
   "execution_count": null,
   "id": "533fa1cf",
   "metadata": {},
   "outputs": [],
   "source": [
    "# Number of Years Up\n",
    "risk_tab.find_all('div',\"Mb(25px)\")[0].find_all('div',\"Bdbw(1px) Bdbc($seperatorColor) Bdbs(s) H(25px) Pt(10px)\")[1].find_all('span')[-1].text"
   ]
  },
  {
   "cell_type": "code",
   "execution_count": null,
   "id": "d2ec338d",
   "metadata": {},
   "outputs": [],
   "source": [
    "# Number of Years Down\n",
    "risk_tab.find_all('div',\"Mb(25px)\")[0].find_all('div',\"Bdbw(1px) Bdbc($seperatorColor) Bdbs(s) H(25px) Pt(10px)\")[2].find_all('span')[-1].text"
   ]
  },
  {
   "cell_type": "markdown",
   "id": "1cc09b25",
   "metadata": {},
   "source": [
    "### Risk tab: Risk Statistics section - 7 attributes and sub  (with3-year, 5-year and 10-year values at index values [1], [4], and [7]"
   ]
  },
  {
   "cell_type": "markdown",
   "id": "80bc83ca",
   "metadata": {},
   "source": [
    "#### Alpha"
   ]
  },
  {
   "cell_type": "code",
   "execution_count": null,
   "id": "a46ee1eb",
   "metadata": {},
   "outputs": [],
   "source": [
    "# 3 Years Alpha\n",
    "risk_tab.find_all('div',\"Mb(25px)\")[1].find_all('div',\"Bdbw(1px) Bdbc($seperatorColor) Bdbs(s) H(25px) Pt(10px)\")[0].find_all('span')[1].text"
   ]
  },
  {
   "cell_type": "code",
   "execution_count": null,
   "id": "f58e4be3",
   "metadata": {},
   "outputs": [],
   "source": [
    "# 5 Years Alpha\n",
    "risk_tab.find_all('div',\"Mb(25px)\")[1].find_all('div',\"Bdbw(1px) Bdbc($seperatorColor) Bdbs(s) H(25px) Pt(10px)\")[0].find_all('span')[4].text"
   ]
  },
  {
   "cell_type": "code",
   "execution_count": null,
   "id": "67938149",
   "metadata": {},
   "outputs": [],
   "source": [
    "# 10 Years Alpha\n",
    "risk_tab.find_all('div',\"Mb(25px)\")[1].find_all('div',\"Bdbw(1px) Bdbc($seperatorColor) Bdbs(s) H(25px) Pt(10px)\")[0].find_all('span')[7].text"
   ]
  },
  {
   "cell_type": "markdown",
   "id": "2fac8007",
   "metadata": {},
   "source": [
    "#### BETA"
   ]
  },
  {
   "cell_type": "code",
   "execution_count": null,
   "id": "bd6e853a",
   "metadata": {},
   "outputs": [],
   "source": [
    "# 3 Years BETA\n",
    "risk_tab.find_all('div',\"Mb(25px)\")[1].find_all('div',\"Bdbw(1px) Bdbc($seperatorColor) Bdbs(s) H(25px) Pt(10px)\")[1].find_all('span')[1].text"
   ]
  },
  {
   "cell_type": "code",
   "execution_count": null,
   "id": "903b46b0",
   "metadata": {},
   "outputs": [],
   "source": [
    "# 5 Years BETA\n",
    "risk_tab.find_all('div',\"Mb(25px)\")[1].find_all('div',\"Bdbw(1px) Bdbc($seperatorColor) Bdbs(s) H(25px) Pt(10px)\")[1].find_all('span')[4].text"
   ]
  },
  {
   "cell_type": "code",
   "execution_count": null,
   "id": "e65fe8e0",
   "metadata": {},
   "outputs": [],
   "source": [
    "# 10 Years BETA\n",
    "risk_tab.find_all('div',\"Mb(25px)\")[1].find_all('div',\"Bdbw(1px) Bdbc($seperatorColor) Bdbs(s) H(25px) Pt(10px)\")[1].find_all('span')[7].text"
   ]
  },
  {
   "cell_type": "markdown",
   "id": "a548526a",
   "metadata": {},
   "source": [
    "#### Mean Annual Return"
   ]
  },
  {
   "cell_type": "code",
   "execution_count": null,
   "id": "f164775c",
   "metadata": {},
   "outputs": [],
   "source": [
    "# 3 Years Mean Annual Return\n",
    "risk_tab.find_all('div',\"Mb(25px)\")[1].find_all('div',\"Bdbw(1px) Bdbc($seperatorColor) Bdbs(s) H(25px) Pt(10px)\")[2].find_all('span')[1].text"
   ]
  },
  {
   "cell_type": "code",
   "execution_count": null,
   "id": "b9d294dc",
   "metadata": {},
   "outputs": [],
   "source": [
    "# 5 Years Mean Annual Return\n",
    "risk_tab.find_all('div',\"Mb(25px)\")[1].find_all('div',\"Bdbw(1px) Bdbc($seperatorColor) Bdbs(s) H(25px) Pt(10px)\")[2].find_all('span')[4].text"
   ]
  },
  {
   "cell_type": "code",
   "execution_count": null,
   "id": "bc308d86",
   "metadata": {},
   "outputs": [],
   "source": [
    "# 10 Years Mean Annual Return\n",
    "risk_tab.find_all('div',\"Mb(25px)\")[1].find_all('div',\"Bdbw(1px) Bdbc($seperatorColor) Bdbs(s) H(25px) Pt(10px)\")[2].find_all('span')[7].text"
   ]
  },
  {
   "cell_type": "markdown",
   "id": "7e86addb",
   "metadata": {},
   "source": [
    "#### R-squared"
   ]
  },
  {
   "cell_type": "code",
   "execution_count": null,
   "id": "1962a42b",
   "metadata": {},
   "outputs": [],
   "source": [
    "# 3 Years R-squared\n",
    "risk_tab.find_all('div',\"Mb(25px)\")[1].find_all('div',\"Bdbw(1px) Bdbc($seperatorColor) Bdbs(s) H(25px) Pt(10px)\")[3].find_all('span')[1].text"
   ]
  },
  {
   "cell_type": "code",
   "execution_count": null,
   "id": "c6a3b9ca",
   "metadata": {},
   "outputs": [],
   "source": [
    "# 5 Years R-squared\n",
    "risk_tab.find_all('div',\"Mb(25px)\")[1].find_all('div',\"Bdbw(1px) Bdbc($seperatorColor) Bdbs(s) H(25px) Pt(10px)\")[3].find_all('span')[4].text"
   ]
  },
  {
   "cell_type": "code",
   "execution_count": null,
   "id": "b9f0ba2d",
   "metadata": {},
   "outputs": [],
   "source": [
    "# 10 Years R-squared\n",
    "risk_tab.find_all('div',\"Mb(25px)\")[1].find_all('div',\"Bdbw(1px) Bdbc($seperatorColor) Bdbs(s) H(25px) Pt(10px)\")[3].find_all('span')[7].text"
   ]
  },
  {
   "cell_type": "markdown",
   "id": "63f60692",
   "metadata": {},
   "source": [
    "#### Standard Deviation"
   ]
  },
  {
   "cell_type": "code",
   "execution_count": null,
   "id": "67c465a1",
   "metadata": {},
   "outputs": [],
   "source": [
    "# 3 Years Standard Deviation\n",
    "risk_tab.find_all('div',\"Mb(25px)\")[1].find_all('div',\"Bdbw(1px) Bdbc($seperatorColor) Bdbs(s) H(25px) Pt(10px)\")[4].find_all('span')[1].text"
   ]
  },
  {
   "cell_type": "code",
   "execution_count": null,
   "id": "443fd1b0",
   "metadata": {},
   "outputs": [],
   "source": [
    "# 5 Years Standard Deviation\n",
    "risk_tab.find_all('div',\"Mb(25px)\")[1].find_all('div',\"Bdbw(1px) Bdbc($seperatorColor) Bdbs(s) H(25px) Pt(10px)\")[4].find_all('span')[4].text"
   ]
  },
  {
   "cell_type": "code",
   "execution_count": null,
   "id": "f34ea21f",
   "metadata": {},
   "outputs": [],
   "source": [
    "# 10 Years Standard Deviation\n",
    "risk_tab.find_all('div',\"Mb(25px)\")[1].find_all('div',\"Bdbw(1px) Bdbc($seperatorColor) Bdbs(s) H(25px) Pt(10px)\")[4].find_all('span')[7].text"
   ]
  },
  {
   "cell_type": "markdown",
   "id": "3a57aeba",
   "metadata": {},
   "source": [
    "#### Sharpe Ratio"
   ]
  },
  {
   "cell_type": "code",
   "execution_count": null,
   "id": "ca0b26d0",
   "metadata": {},
   "outputs": [],
   "source": [
    "# 3 Years Sharpe Ratio\n",
    "risk_tab.find_all('div',\"Mb(25px)\")[1].find_all('div',\"Bdbw(1px) Bdbc($seperatorColor) Bdbs(s) H(25px) Pt(10px)\")[5].find_all('span')[1].text"
   ]
  },
  {
   "cell_type": "code",
   "execution_count": null,
   "id": "21824ff3",
   "metadata": {},
   "outputs": [],
   "source": [
    "# 5 Years Sharpe Ratio\n",
    "risk_tab.find_all('div',\"Mb(25px)\")[1].find_all('div',\"Bdbw(1px) Bdbc($seperatorColor) Bdbs(s) H(25px) Pt(10px)\")[5].find_all('span')[4].text"
   ]
  },
  {
   "cell_type": "code",
   "execution_count": null,
   "id": "631bf46a",
   "metadata": {},
   "outputs": [],
   "source": [
    "# 10 Years Sharpe Ratio\n",
    "risk_tab.find_all('div',\"Mb(25px)\")[1].find_all('div',\"Bdbw(1px) Bdbc($seperatorColor) Bdbs(s) H(25px) Pt(10px)\")[5].find_all('span')[7].text"
   ]
  },
  {
   "cell_type": "markdown",
   "id": "df86e597",
   "metadata": {},
   "source": [
    "#### Treynor Ratio"
   ]
  },
  {
   "cell_type": "code",
   "execution_count": null,
   "id": "f3201dc1",
   "metadata": {},
   "outputs": [],
   "source": [
    "# 3 Years Treynor Ration\n",
    "risk_tab.find_all('div',\"Mb(25px)\")[1].find_all('div',\"Bdbw(1px) Bdbc($seperatorColor) Bdbs(s) H(25px) Pt(10px)\")[6].find_all('span')[1].text"
   ]
  },
  {
   "cell_type": "code",
   "execution_count": null,
   "id": "b656dd55",
   "metadata": {},
   "outputs": [],
   "source": [
    "# 5 Years Treynor Ration\n",
    "risk_tab.find_all('div',\"Mb(25px)\")[1].find_all('div',\"Bdbw(1px) Bdbc($seperatorColor) Bdbs(s) H(25px) Pt(10px)\")[6].find_all('span')[4].text"
   ]
  },
  {
   "cell_type": "code",
   "execution_count": null,
   "id": "a68b7846",
   "metadata": {},
   "outputs": [],
   "source": [
    "# 10 Years Treynor Ration\n",
    "risk_tab.find_all('div',\"Mb(25px)\")[1].find_all('div',\"Bdbw(1px) Bdbc($seperatorColor) Bdbs(s) H(25px) Pt(10px)\")[6].find_all('span')[7].text"
   ]
  },
  {
   "cell_type": "code",
   "execution_count": null,
   "id": "efa0e693",
   "metadata": {},
   "outputs": [],
   "source": []
  },
  {
   "cell_type": "code",
   "execution_count": null,
   "id": "42a5b4ed",
   "metadata": {},
   "outputs": [],
   "source": []
  },
  {
   "cell_type": "code",
   "execution_count": null,
   "id": "48fdf19c",
   "metadata": {},
   "outputs": [],
   "source": []
  }
 ],
 "metadata": {
  "kernelspec": {
   "display_name": "Python 3 (ipykernel)",
   "language": "python",
   "name": "python3"
  },
  "language_info": {
   "codemirror_mode": {
    "name": "ipython",
    "version": 3
   },
   "file_extension": ".py",
   "mimetype": "text/x-python",
   "name": "python",
   "nbconvert_exporter": "python",
   "pygments_lexer": "ipython3",
   "version": "3.9.7"
  }
 },
 "nbformat": 4,
 "nbformat_minor": 5
}
